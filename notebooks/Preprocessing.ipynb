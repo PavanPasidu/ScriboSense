{
 "cells": [
  {
   "cell_type": "markdown",
   "metadata": {},
   "source": [
    "# Pre-processing Datasets"
   ]
  },
  {
   "cell_type": "code",
   "execution_count": 4,
   "metadata": {},
   "outputs": [],
   "source": [
    "# import important libraries \n",
    "import pandas as pd\n",
    "import numpy as np\n",
    "import matplotlib as plt"
   ]
  },
  {
   "cell_type": "code",
   "execution_count": 5,
   "metadata": {},
   "outputs": [],
   "source": [
    "# load dataset prompts_train , summaries_train\n",
    "prompts = pd.read_csv('../artifacts/prompts_train.csv')\n",
    "summaries = pd.read_csv('../artifacts/summaries_train.csv')"
   ]
  },
  {
   "cell_type": "code",
   "execution_count": 6,
   "metadata": {},
   "outputs": [
    {
     "name": "stdout",
     "output_type": "stream",
     "text": [
      "0\n",
      "0\n"
     ]
    }
   ],
   "source": [
    "# find duplicates\n",
    "print(prompts.duplicated().sum())\n",
    "print(summaries.duplicated().sum())"
   ]
  },
  {
   "cell_type": "code",
   "execution_count": 7,
   "metadata": {},
   "outputs": [
    {
     "name": "stdout",
     "output_type": "stream",
     "text": [
      "prompt_id          0\n",
      "prompt_question    0\n",
      "prompt_title       0\n",
      "prompt_text        0\n",
      "dtype: int64\n",
      "student_id    0\n",
      "prompt_id     0\n",
      "text          0\n",
      "content       0\n",
      "wording       0\n",
      "dtype: int64\n"
     ]
    }
   ],
   "source": [
    "# find null values\n",
    "print(prompts.isnull().sum())\n",
    "print(summaries.isnull().sum())"
   ]
  },
  {
   "cell_type": "code",
   "execution_count": 19,
   "metadata": {},
   "outputs": [
    {
     "name": "stdout",
     "output_type": "stream",
     "text": [
      "Collecting langdetect\n",
      "  Using cached langdetect-1.0.9-py3-none-any.whl\n",
      "Collecting nltk\n",
      "  Using cached nltk-3.8.1-py3-none-any.whl (1.5 MB)\n",
      "Requirement already satisfied: six in c:\\users\\acer\\desktop\\scribosense\\env\\lib\\site-packages (from langdetect) (1.16.0)\n",
      "Collecting click (from nltk)\n",
      "  Downloading click-8.1.7-py3-none-any.whl (97 kB)\n",
      "                                              0.0/97.9 kB ? eta -:--:--\n",
      "     ------------                             30.7/97.9 kB 1.4 MB/s eta 0:00:01\n",
      "     -----------------------                61.4/97.9 kB 550.5 kB/s eta 0:00:01\n",
      "     -------------------------------------- 97.9/97.9 kB 804.6 kB/s eta 0:00:00\n",
      "Collecting joblib (from nltk)\n",
      "  Downloading joblib-1.3.2-py3-none-any.whl (302 kB)\n",
      "                                              0.0/302.2 kB ? eta -:--:--\n",
      "     -----                                 41.0/302.2 kB 991.0 kB/s eta 0:00:01\n",
      "     -------                                 61.4/302.2 kB 1.1 MB/s eta 0:00:01\n",
      "     ---------------                        122.9/302.2 kB 1.0 MB/s eta 0:00:01\n",
      "     -------------------                  163.8/302.2 kB 984.6 kB/s eta 0:00:01\n",
      "     -------------------------              204.8/302.2 kB 1.0 MB/s eta 0:00:01\n",
      "     ------------------------------         245.8/302.2 kB 1.0 MB/s eta 0:00:01\n",
      "     ------------------------------------   286.7/302.2 kB 1.0 MB/s eta 0:00:01\n",
      "     -------------------------------------- 302.2/302.2 kB 1.0 MB/s eta 0:00:00\n",
      "Collecting regex>=2021.8.3 (from nltk)\n",
      "  Using cached regex-2023.8.8-cp310-cp310-win_amd64.whl (268 kB)\n",
      "Requirement already satisfied: tqdm in c:\\users\\acer\\desktop\\scribosense\\env\\lib\\site-packages (from nltk) (4.65.0)\n",
      "Requirement already satisfied: colorama in c:\\users\\acer\\desktop\\scribosense\\env\\lib\\site-packages (from click->nltk) (0.4.6)\n",
      "Installing collected packages: regex, langdetect, joblib, click, nltk\n",
      "Successfully installed click-8.1.7 joblib-1.3.2 langdetect-1.0.9 nltk-3.8.1 regex-2023.8.8\n"
     ]
    },
    {
     "name": "stderr",
     "output_type": "stream",
     "text": [
      "\n",
      "[notice] A new release of pip is available: 23.1.2 -> 23.2.1\n",
      "[notice] To update, run: python.exe -m pip install --upgrade pip\n"
     ]
    }
   ],
   "source": [
    "!pip install langdetect nltk"
   ]
  },
  {
   "cell_type": "code",
   "execution_count": null,
   "metadata": {},
   "outputs": [],
   "source": []
  },
  {
   "cell_type": "code",
   "execution_count": 11,
   "metadata": {},
   "outputs": [
    {
     "name": "stdout",
     "output_type": "stream",
     "text": [
      "The 'prompt_question' column can be safely converted to string.\n"
     ]
    }
   ],
   "source": [
    "# check why i cant convert the data into string\n",
    "\n",
    "def is_convertible(value):\n",
    "    try:\n",
    "        str(value)\n",
    "        return True\n",
    "    except:\n",
    "        return False\n",
    "\n",
    "column_to_check = 'prompt_question'\n",
    "\n",
    "if all(prompts[column_to_check].apply(is_convertible)):\n",
    "    print(f\"The '{column_to_check}' column can be safely converted to string.\")\n",
    "else:\n",
    "    print(f\"The '{column_to_check}' column cannot be converted to string for all values.\")\n"
   ]
  },
  {
   "cell_type": "code",
   "execution_count": 12,
   "metadata": {},
   "outputs": [],
   "source": [
    "## so there is no null values or duplicate values "
   ]
  },
  {
   "cell_type": "code",
   "execution_count": 13,
   "metadata": {},
   "outputs": [
    {
     "data": {
      "text/html": [
       "<div>\n",
       "<style scoped>\n",
       "    .dataframe tbody tr th:only-of-type {\n",
       "        vertical-align: middle;\n",
       "    }\n",
       "\n",
       "    .dataframe tbody tr th {\n",
       "        vertical-align: top;\n",
       "    }\n",
       "\n",
       "    .dataframe thead th {\n",
       "        text-align: right;\n",
       "    }\n",
       "</style>\n",
       "<table border=\"1\" class=\"dataframe\">\n",
       "  <thead>\n",
       "    <tr style=\"text-align: right;\">\n",
       "      <th></th>\n",
       "      <th>prompt_id</th>\n",
       "      <th>prompt_question</th>\n",
       "      <th>prompt_title</th>\n",
       "      <th>prompt_text</th>\n",
       "    </tr>\n",
       "  </thead>\n",
       "  <tbody>\n",
       "    <tr>\n",
       "      <th>0</th>\n",
       "      <td>39c16e</td>\n",
       "      <td>Summarize at least 3 elements of an ideal trag...</td>\n",
       "      <td>On Tragedy</td>\n",
       "      <td>Chapter 13 \\r\\nAs the sequel to what has alrea...</td>\n",
       "    </tr>\n",
       "    <tr>\n",
       "      <th>1</th>\n",
       "      <td>3b9047</td>\n",
       "      <td>In complete sentences, summarize the structure...</td>\n",
       "      <td>Egyptian Social Structure</td>\n",
       "      <td>Egyptian society was structured like a pyramid...</td>\n",
       "    </tr>\n",
       "    <tr>\n",
       "      <th>2</th>\n",
       "      <td>814d6b</td>\n",
       "      <td>Summarize how the Third Wave developed over su...</td>\n",
       "      <td>The Third Wave</td>\n",
       "      <td>Background \\r\\nThe Third Wave experiment took ...</td>\n",
       "    </tr>\n",
       "    <tr>\n",
       "      <th>3</th>\n",
       "      <td>ebad26</td>\n",
       "      <td>Summarize the various ways the factory would u...</td>\n",
       "      <td>Excerpt from The Jungle</td>\n",
       "      <td>With one member trimming beef in a cannery, an...</td>\n",
       "    </tr>\n",
       "  </tbody>\n",
       "</table>\n",
       "</div>"
      ],
      "text/plain": [
       "  prompt_id                                    prompt_question  \\\n",
       "0    39c16e  Summarize at least 3 elements of an ideal trag...   \n",
       "1    3b9047  In complete sentences, summarize the structure...   \n",
       "2    814d6b  Summarize how the Third Wave developed over su...   \n",
       "3    ebad26  Summarize the various ways the factory would u...   \n",
       "\n",
       "                prompt_title  \\\n",
       "0                 On Tragedy   \n",
       "1  Egyptian Social Structure   \n",
       "2             The Third Wave   \n",
       "3    Excerpt from The Jungle   \n",
       "\n",
       "                                         prompt_text  \n",
       "0  Chapter 13 \\r\\nAs the sequel to what has alrea...  \n",
       "1  Egyptian society was structured like a pyramid...  \n",
       "2  Background \\r\\nThe Third Wave experiment took ...  \n",
       "3  With one member trimming beef in a cannery, an...  "
      ]
     },
     "execution_count": 13,
     "metadata": {},
     "output_type": "execute_result"
    }
   ],
   "source": [
    "prompts.head()"
   ]
  },
  {
   "cell_type": "code",
   "execution_count": 14,
   "metadata": {},
   "outputs": [
    {
     "data": {
      "text/html": [
       "<div>\n",
       "<style scoped>\n",
       "    .dataframe tbody tr th:only-of-type {\n",
       "        vertical-align: middle;\n",
       "    }\n",
       "\n",
       "    .dataframe tbody tr th {\n",
       "        vertical-align: top;\n",
       "    }\n",
       "\n",
       "    .dataframe thead th {\n",
       "        text-align: right;\n",
       "    }\n",
       "</style>\n",
       "<table border=\"1\" class=\"dataframe\">\n",
       "  <thead>\n",
       "    <tr style=\"text-align: right;\">\n",
       "      <th></th>\n",
       "      <th>prompt_id</th>\n",
       "      <th>prompt_question</th>\n",
       "      <th>prompt_title</th>\n",
       "      <th>prompt_text</th>\n",
       "    </tr>\n",
       "  </thead>\n",
       "  <tbody>\n",
       "    <tr>\n",
       "      <th>0</th>\n",
       "      <td>39c16e</td>\n",
       "      <td>Summarize at least 3 elements of an ideal trag...</td>\n",
       "      <td>On Tragedy</td>\n",
       "      <td>Chapter 13 \\r\\nAs the sequel to what has alrea...</td>\n",
       "    </tr>\n",
       "    <tr>\n",
       "      <th>1</th>\n",
       "      <td>3b9047</td>\n",
       "      <td>In complete sentences, summarize the structure...</td>\n",
       "      <td>Egyptian Social Structure</td>\n",
       "      <td>Egyptian society was structured like a pyramid...</td>\n",
       "    </tr>\n",
       "    <tr>\n",
       "      <th>2</th>\n",
       "      <td>814d6b</td>\n",
       "      <td>Summarize how the Third Wave developed over su...</td>\n",
       "      <td>The Third Wave</td>\n",
       "      <td>Background \\r\\nThe Third Wave experiment took ...</td>\n",
       "    </tr>\n",
       "    <tr>\n",
       "      <th>3</th>\n",
       "      <td>ebad26</td>\n",
       "      <td>Summarize the various ways the factory would u...</td>\n",
       "      <td>Excerpt from The Jungle</td>\n",
       "      <td>With one member trimming beef in a cannery, an...</td>\n",
       "    </tr>\n",
       "  </tbody>\n",
       "</table>\n",
       "</div>"
      ],
      "text/plain": [
       "  prompt_id                                    prompt_question  \\\n",
       "0    39c16e  Summarize at least 3 elements of an ideal trag...   \n",
       "1    3b9047  In complete sentences, summarize the structure...   \n",
       "2    814d6b  Summarize how the Third Wave developed over su...   \n",
       "3    ebad26  Summarize the various ways the factory would u...   \n",
       "\n",
       "                prompt_title  \\\n",
       "0                 On Tragedy   \n",
       "1  Egyptian Social Structure   \n",
       "2             The Third Wave   \n",
       "3    Excerpt from The Jungle   \n",
       "\n",
       "                                         prompt_text  \n",
       "0  Chapter 13 \\r\\nAs the sequel to what has alrea...  \n",
       "1  Egyptian society was structured like a pyramid...  \n",
       "2  Background \\r\\nThe Third Wave experiment took ...  \n",
       "3  With one member trimming beef in a cannery, an...  "
      ]
     },
     "execution_count": 14,
     "metadata": {},
     "output_type": "execute_result"
    }
   ],
   "source": [
    "prompts.tail()"
   ]
  },
  {
   "cell_type": "code",
   "execution_count": 15,
   "metadata": {},
   "outputs": [
    {
     "data": {
      "text/html": [
       "<div>\n",
       "<style scoped>\n",
       "    .dataframe tbody tr th:only-of-type {\n",
       "        vertical-align: middle;\n",
       "    }\n",
       "\n",
       "    .dataframe tbody tr th {\n",
       "        vertical-align: top;\n",
       "    }\n",
       "\n",
       "    .dataframe thead th {\n",
       "        text-align: right;\n",
       "    }\n",
       "</style>\n",
       "<table border=\"1\" class=\"dataframe\">\n",
       "  <thead>\n",
       "    <tr style=\"text-align: right;\">\n",
       "      <th></th>\n",
       "      <th>prompt_id</th>\n",
       "      <th>prompt_question</th>\n",
       "      <th>prompt_title</th>\n",
       "      <th>prompt_text</th>\n",
       "    </tr>\n",
       "  </thead>\n",
       "  <tbody>\n",
       "    <tr>\n",
       "      <th>count</th>\n",
       "      <td>4</td>\n",
       "      <td>4</td>\n",
       "      <td>4</td>\n",
       "      <td>4</td>\n",
       "    </tr>\n",
       "    <tr>\n",
       "      <th>unique</th>\n",
       "      <td>4</td>\n",
       "      <td>4</td>\n",
       "      <td>4</td>\n",
       "      <td>4</td>\n",
       "    </tr>\n",
       "    <tr>\n",
       "      <th>top</th>\n",
       "      <td>39c16e</td>\n",
       "      <td>Summarize at least 3 elements of an ideal trag...</td>\n",
       "      <td>On Tragedy</td>\n",
       "      <td>Chapter 13 \\r\\nAs the sequel to what has alrea...</td>\n",
       "    </tr>\n",
       "    <tr>\n",
       "      <th>freq</th>\n",
       "      <td>1</td>\n",
       "      <td>1</td>\n",
       "      <td>1</td>\n",
       "      <td>1</td>\n",
       "    </tr>\n",
       "  </tbody>\n",
       "</table>\n",
       "</div>"
      ],
      "text/plain": [
       "       prompt_id                                    prompt_question  \\\n",
       "count          4                                                  4   \n",
       "unique         4                                                  4   \n",
       "top       39c16e  Summarize at least 3 elements of an ideal trag...   \n",
       "freq           1                                                  1   \n",
       "\n",
       "       prompt_title                                        prompt_text  \n",
       "count             4                                                  4  \n",
       "unique            4                                                  4  \n",
       "top      On Tragedy  Chapter 13 \\r\\nAs the sequel to what has alrea...  \n",
       "freq              1                                                  1  "
      ]
     },
     "execution_count": 15,
     "metadata": {},
     "output_type": "execute_result"
    }
   ],
   "source": [
    "prompts.describe()"
   ]
  },
  {
   "cell_type": "code",
   "execution_count": 16,
   "metadata": {},
   "outputs": [
    {
     "data": {
      "text/html": [
       "<div>\n",
       "<style scoped>\n",
       "    .dataframe tbody tr th:only-of-type {\n",
       "        vertical-align: middle;\n",
       "    }\n",
       "\n",
       "    .dataframe tbody tr th {\n",
       "        vertical-align: top;\n",
       "    }\n",
       "\n",
       "    .dataframe thead th {\n",
       "        text-align: right;\n",
       "    }\n",
       "</style>\n",
       "<table border=\"1\" class=\"dataframe\">\n",
       "  <thead>\n",
       "    <tr style=\"text-align: right;\">\n",
       "      <th></th>\n",
       "      <th>student_id</th>\n",
       "      <th>prompt_id</th>\n",
       "      <th>text</th>\n",
       "      <th>content</th>\n",
       "      <th>wording</th>\n",
       "    </tr>\n",
       "  </thead>\n",
       "  <tbody>\n",
       "    <tr>\n",
       "      <th>0</th>\n",
       "      <td>000e8c3c7ddb</td>\n",
       "      <td>814d6b</td>\n",
       "      <td>The third wave was an experimentto see how peo...</td>\n",
       "      <td>0.205683</td>\n",
       "      <td>0.380538</td>\n",
       "    </tr>\n",
       "    <tr>\n",
       "      <th>1</th>\n",
       "      <td>0020ae56ffbf</td>\n",
       "      <td>ebad26</td>\n",
       "      <td>They would rub it up with soda to make the sme...</td>\n",
       "      <td>-0.548304</td>\n",
       "      <td>0.506755</td>\n",
       "    </tr>\n",
       "    <tr>\n",
       "      <th>2</th>\n",
       "      <td>004e978e639e</td>\n",
       "      <td>3b9047</td>\n",
       "      <td>In Egypt, there were many occupations and soci...</td>\n",
       "      <td>3.128928</td>\n",
       "      <td>4.231226</td>\n",
       "    </tr>\n",
       "    <tr>\n",
       "      <th>3</th>\n",
       "      <td>005ab0199905</td>\n",
       "      <td>3b9047</td>\n",
       "      <td>The highest class was Pharaohs these people we...</td>\n",
       "      <td>-0.210614</td>\n",
       "      <td>-0.471415</td>\n",
       "    </tr>\n",
       "    <tr>\n",
       "      <th>4</th>\n",
       "      <td>0070c9e7af47</td>\n",
       "      <td>814d6b</td>\n",
       "      <td>The Third Wave developed  rapidly because the ...</td>\n",
       "      <td>3.272894</td>\n",
       "      <td>3.219757</td>\n",
       "    </tr>\n",
       "  </tbody>\n",
       "</table>\n",
       "</div>"
      ],
      "text/plain": [
       "     student_id prompt_id                                               text  \\\n",
       "0  000e8c3c7ddb    814d6b  The third wave was an experimentto see how peo...   \n",
       "1  0020ae56ffbf    ebad26  They would rub it up with soda to make the sme...   \n",
       "2  004e978e639e    3b9047  In Egypt, there were many occupations and soci...   \n",
       "3  005ab0199905    3b9047  The highest class was Pharaohs these people we...   \n",
       "4  0070c9e7af47    814d6b  The Third Wave developed  rapidly because the ...   \n",
       "\n",
       "    content   wording  \n",
       "0  0.205683  0.380538  \n",
       "1 -0.548304  0.506755  \n",
       "2  3.128928  4.231226  \n",
       "3 -0.210614 -0.471415  \n",
       "4  3.272894  3.219757  "
      ]
     },
     "execution_count": 16,
     "metadata": {},
     "output_type": "execute_result"
    }
   ],
   "source": [
    "summaries.head()"
   ]
  },
  {
   "cell_type": "code",
   "execution_count": 17,
   "metadata": {},
   "outputs": [
    {
     "data": {
      "text/html": [
       "<div>\n",
       "<style scoped>\n",
       "    .dataframe tbody tr th:only-of-type {\n",
       "        vertical-align: middle;\n",
       "    }\n",
       "\n",
       "    .dataframe tbody tr th {\n",
       "        vertical-align: top;\n",
       "    }\n",
       "\n",
       "    .dataframe thead th {\n",
       "        text-align: right;\n",
       "    }\n",
       "</style>\n",
       "<table border=\"1\" class=\"dataframe\">\n",
       "  <thead>\n",
       "    <tr style=\"text-align: right;\">\n",
       "      <th></th>\n",
       "      <th>student_id</th>\n",
       "      <th>prompt_id</th>\n",
       "      <th>text</th>\n",
       "      <th>content</th>\n",
       "      <th>wording</th>\n",
       "    </tr>\n",
       "  </thead>\n",
       "  <tbody>\n",
       "    <tr>\n",
       "      <th>7160</th>\n",
       "      <td>ff7c7e70df07</td>\n",
       "      <td>ebad26</td>\n",
       "      <td>They used all sorts of chemical concoctions to...</td>\n",
       "      <td>0.205683</td>\n",
       "      <td>0.380538</td>\n",
       "    </tr>\n",
       "    <tr>\n",
       "      <th>7161</th>\n",
       "      <td>ffc34d056498</td>\n",
       "      <td>3b9047</td>\n",
       "      <td>The lowest classes are slaves and farmers slav...</td>\n",
       "      <td>-0.308448</td>\n",
       "      <td>0.048171</td>\n",
       "    </tr>\n",
       "    <tr>\n",
       "      <th>7162</th>\n",
       "      <td>ffd1576d2e1b</td>\n",
       "      <td>3b9047</td>\n",
       "      <td>they sorta made people start workin...</td>\n",
       "      <td>-1.408180</td>\n",
       "      <td>-0.493603</td>\n",
       "    </tr>\n",
       "    <tr>\n",
       "      <th>7163</th>\n",
       "      <td>ffe4a98093b2</td>\n",
       "      <td>39c16e</td>\n",
       "      <td>An ideal tragety has three elements that make ...</td>\n",
       "      <td>-0.393310</td>\n",
       "      <td>0.627128</td>\n",
       "    </tr>\n",
       "    <tr>\n",
       "      <th>7164</th>\n",
       "      <td>fffbccfd8a08</td>\n",
       "      <td>ebad26</td>\n",
       "      <td>The meat would smell sour but the would \"rub i...</td>\n",
       "      <td>1.771596</td>\n",
       "      <td>0.547742</td>\n",
       "    </tr>\n",
       "  </tbody>\n",
       "</table>\n",
       "</div>"
      ],
      "text/plain": [
       "        student_id prompt_id  \\\n",
       "7160  ff7c7e70df07    ebad26   \n",
       "7161  ffc34d056498    3b9047   \n",
       "7162  ffd1576d2e1b    3b9047   \n",
       "7163  ffe4a98093b2    39c16e   \n",
       "7164  fffbccfd8a08    ebad26   \n",
       "\n",
       "                                                   text   content   wording  \n",
       "7160  They used all sorts of chemical concoctions to...  0.205683  0.380538  \n",
       "7161  The lowest classes are slaves and farmers slav... -0.308448  0.048171  \n",
       "7162             they sorta made people start workin... -1.408180 -0.493603  \n",
       "7163  An ideal tragety has three elements that make ... -0.393310  0.627128  \n",
       "7164  The meat would smell sour but the would \"rub i...  1.771596  0.547742  "
      ]
     },
     "execution_count": 17,
     "metadata": {},
     "output_type": "execute_result"
    }
   ],
   "source": [
    "summaries.tail()"
   ]
  },
  {
   "cell_type": "code",
   "execution_count": 18,
   "metadata": {},
   "outputs": [
    {
     "data": {
      "text/html": [
       "<div>\n",
       "<style scoped>\n",
       "    .dataframe tbody tr th:only-of-type {\n",
       "        vertical-align: middle;\n",
       "    }\n",
       "\n",
       "    .dataframe tbody tr th {\n",
       "        vertical-align: top;\n",
       "    }\n",
       "\n",
       "    .dataframe thead th {\n",
       "        text-align: right;\n",
       "    }\n",
       "</style>\n",
       "<table border=\"1\" class=\"dataframe\">\n",
       "  <thead>\n",
       "    <tr style=\"text-align: right;\">\n",
       "      <th></th>\n",
       "      <th>content</th>\n",
       "      <th>wording</th>\n",
       "    </tr>\n",
       "  </thead>\n",
       "  <tbody>\n",
       "    <tr>\n",
       "      <th>count</th>\n",
       "      <td>7165.000000</td>\n",
       "      <td>7165.000000</td>\n",
       "    </tr>\n",
       "    <tr>\n",
       "      <th>mean</th>\n",
       "      <td>-0.014853</td>\n",
       "      <td>-0.063072</td>\n",
       "    </tr>\n",
       "    <tr>\n",
       "      <th>std</th>\n",
       "      <td>1.043569</td>\n",
       "      <td>1.036048</td>\n",
       "    </tr>\n",
       "    <tr>\n",
       "      <th>min</th>\n",
       "      <td>-1.729859</td>\n",
       "      <td>-1.962614</td>\n",
       "    </tr>\n",
       "    <tr>\n",
       "      <th>25%</th>\n",
       "      <td>-0.799545</td>\n",
       "      <td>-0.872720</td>\n",
       "    </tr>\n",
       "    <tr>\n",
       "      <th>50%</th>\n",
       "      <td>-0.093814</td>\n",
       "      <td>-0.081769</td>\n",
       "    </tr>\n",
       "    <tr>\n",
       "      <th>75%</th>\n",
       "      <td>0.499660</td>\n",
       "      <td>0.503833</td>\n",
       "    </tr>\n",
       "    <tr>\n",
       "      <th>max</th>\n",
       "      <td>3.900326</td>\n",
       "      <td>4.310693</td>\n",
       "    </tr>\n",
       "  </tbody>\n",
       "</table>\n",
       "</div>"
      ],
      "text/plain": [
       "           content      wording\n",
       "count  7165.000000  7165.000000\n",
       "mean     -0.014853    -0.063072\n",
       "std       1.043569     1.036048\n",
       "min      -1.729859    -1.962614\n",
       "25%      -0.799545    -0.872720\n",
       "50%      -0.093814    -0.081769\n",
       "75%       0.499660     0.503833\n",
       "max       3.900326     4.310693"
      ]
     },
     "execution_count": 18,
     "metadata": {},
     "output_type": "execute_result"
    }
   ],
   "source": [
    "summaries.describe()"
   ]
  },
  {
   "cell_type": "markdown",
   "metadata": {},
   "source": [
    "# Text pre-processing"
   ]
  },
  {
   "cell_type": "code",
   "execution_count": 19,
   "metadata": {},
   "outputs": [
    {
     "data": {
      "text/plain": [
       "student_id     object\n",
       "prompt_id      object\n",
       "text           object\n",
       "content       float64\n",
       "wording       float64\n",
       "dtype: object"
      ]
     },
     "execution_count": 19,
     "metadata": {},
     "output_type": "execute_result"
    }
   ],
   "source": [
    "summaries.dtypes"
   ]
  },
  {
   "cell_type": "code",
   "execution_count": 20,
   "metadata": {},
   "outputs": [
    {
     "data": {
      "text/plain": [
       "prompt_id          object\n",
       "prompt_question    object\n",
       "prompt_title       object\n",
       "prompt_text        object\n",
       "dtype: object"
      ]
     },
     "execution_count": 20,
     "metadata": {},
     "output_type": "execute_result"
    }
   ],
   "source": [
    "prompts.dtypes"
   ]
  },
  {
   "cell_type": "code",
   "execution_count": 21,
   "metadata": {},
   "outputs": [
    {
     "name": "stdout",
     "output_type": "stream",
     "text": [
      "Conversion done.\n"
     ]
    }
   ],
   "source": [
    "# convert object type to string\n",
    "# cols_in_summ = ['student_id', 'prompt_id', 'text']\n",
    "\n",
    "# for feature in cols_in_summ:\n",
    "#     summaries[feature] = summaries[feature].astype(str)\n",
    "#     print(f\"Converting column '{feature}'...\")\n",
    "#     print(summaries[feature].dtype)\n",
    "\n",
    "object_columns_1 = prompts.select_dtypes(include=['object']).columns\n",
    "prompts[object_columns_1] = prompts[object_columns_1].astype('string')\n",
    "\n",
    "object_columns = summaries.select_dtypes(include=['object']).columns\n",
    "summaries[object_columns] = summaries[object_columns].astype('string')\n",
    "\n",
    "print(\"Conversion done.\")\n",
    " "
   ]
  },
  {
   "cell_type": "code",
   "execution_count": 22,
   "metadata": {},
   "outputs": [
    {
     "name": "stdout",
     "output_type": "stream",
     "text": [
      "7165\n",
      "0\n",
      "        student_id prompt_id  \\\n",
      "75    034778750341    3b9047   \n",
      "687   190203453483    3b9047   \n",
      "958   225379499397    39c16e   \n",
      "1076  267513940255    39c16e   \n",
      "1361  317049794171    3b9047   \n",
      "1395  327149666308    ebad26   \n",
      "1777  403911877200    39c16e   \n",
      "1779  404194453807    39c16e   \n",
      "1857  429201797323    ebad26   \n",
      "1907  442594256362    ebad26   \n",
      "2050  495833117023    39c16e   \n",
      "2307  523680763020    ebad26   \n",
      "2330  530098944761    39c16e   \n",
      "2377  548691483400    39c16e   \n",
      "2776  635960714299    39c16e   \n",
      "2782  639777926382    ebad26   \n",
      "2813  647850918434    814d6b   \n",
      "2833  653956343387    ebad26   \n",
      "3222  725274314881    39c16e   \n",
      "3626  809230548742    814d6b   \n",
      "3692  833737560522    39c16e   \n",
      "3771  858088856432    39c16e   \n",
      "4150  929189204081    39c16e   \n",
      "4166  933265272086    3b9047   \n",
      "4204  947522272313    814d6b   \n",
      "4305  988369638777    ebad26   \n",
      "4326  993389255425    3b9047   \n",
      "\n",
      "                                                   text   content   wording  \n",
      "75    The egyptian system of government is different... -0.964718 -1.628368  \n",
      "687   The structure of the ancient Egyptian system o...  0.205683  0.380538  \n",
      "958   An ideal tragedy would be that the story can't... -0.062106 -0.380727  \n",
      "1076  In tragedies, 3 elements that should be includ...  1.044649  0.958534  \n",
      "1361  The ancient Egyptian system of government was ...  3.251984  2.797394  \n",
      "1395  The factory would chop up spoiled meat and put... -0.718995  0.423674  \n",
      "1777  Tragedy must be about a person who is not extr... -0.093814  0.503833  \n",
      "1779  Three elements of an ideal tradegy, as describ...  0.205683  0.380538  \n",
      "1857  On way was by using a pickles to get ride of t...  0.328739 -1.053294  \n",
      "1907  The factory would use various methods to hide ...  1.284505  0.499949  \n",
      "2050  The elements of an ideal tragedy as seen by Ar...  1.173453  0.752157  \n",
      "2307  The various ways that the factory would use or...  0.205683  0.380538  \n",
      "2330  An ideal tragedy, according to Aristotle, shou... -0.328151 -0.248892  \n",
      "2377  A good tragedy should not have a simple plot, ... -0.093814  0.503833  \n",
      "2776  Aristotle believed that a good tragedy would n...  3.332534  3.555045  \n",
      "2782  In the text it describes \"They would rub it up... -0.981265 -1.548900  \n",
      "2813  The Third Wave was initially nothing more than...  1.424695  1.592890  \n",
      "2833  The factory would chop up spoiled meat and put...  1.284505  0.499949  \n",
      "3222  He mentions oedipusus inall his examples of tr... -0.248808  0.383460  \n",
      "3626  The Third Wave developed over such a short per...  1.252797  1.384510  \n",
      "3692  Three elements of an idela tragedy described b... -0.981265 -1.548900  \n",
      "3771  The first element of an ideal tragedy is  comp... -0.093814  0.503833  \n",
      "4150  The perfect tragedy is planned out to show fea... -0.456956 -0.042516  \n",
      "4166  The pharoahs got all they wanted because peopl...  0.205683  0.380538  \n",
      "4204  The third wave was developed over such a short...  1.252797  1.384510  \n",
      "4305  the factories would use soda , filing meat wit... -0.921625 -1.213611  \n",
      "4326  \"Egyptian social structure\", written by USHist...  2.407270  0.991942  \n"
     ]
    }
   ],
   "source": [
    "print(summaries['prompt_id'].str.islower().sum())\n",
    "print(prompts['prompt_question'].str.islower().sum())\n",
    "print(summaries[~summaries['student_id'].str.islower()])"
   ]
  },
  {
   "cell_type": "code",
   "execution_count": 23,
   "metadata": {},
   "outputs": [
    {
     "data": {
      "text/plain": [
       "student_id    string[python]\n",
       "prompt_id     string[python]\n",
       "text          string[python]\n",
       "content              float64\n",
       "wording              float64\n",
       "dtype: object"
      ]
     },
     "execution_count": 23,
     "metadata": {},
     "output_type": "execute_result"
    }
   ],
   "source": [
    "summaries.dtypes"
   ]
  },
  {
   "cell_type": "code",
   "execution_count": 24,
   "metadata": {},
   "outputs": [
    {
     "data": {
      "text/plain": [
       "prompt_id          string[python]\n",
       "prompt_question    string[python]\n",
       "prompt_title       string[python]\n",
       "prompt_text        string[python]\n",
       "dtype: object"
      ]
     },
     "execution_count": 24,
     "metadata": {},
     "output_type": "execute_result"
    }
   ],
   "source": [
    "prompts.dtypes"
   ]
  },
  {
   "cell_type": "code",
   "execution_count": 25,
   "metadata": {},
   "outputs": [
    {
     "name": "stdout",
     "output_type": "stream",
     "text": [
      "0    the third wave was an experimentto see how peo...\n",
      "1    they would rub it up with soda to make the sme...\n",
      "2    in egypt, there were many occupations and soci...\n",
      "3    the highest class was pharaohs these people we...\n",
      "4    the third wave developed rapidly because the s...\n",
      "Name: text, dtype: object\n",
      "0    814d6b\n",
      "1    ebad26\n",
      "2    3b9047\n",
      "3    3b9047\n",
      "4    814d6b\n",
      "Name: prompt_id, dtype: object\n",
      "0    000e8c3c7ddb\n",
      "1    0020ae56ffbf\n",
      "2    004e978e639e\n",
      "3    005ab0199905\n",
      "4    0070c9e7af47\n",
      "Name: student_id, dtype: object\n",
      "0    39c16e\n",
      "1    3b9047\n",
      "2    814d6b\n",
      "3    ebad26\n",
      "Name: prompt_id, dtype: object\n",
      "0    summarize at least 3 elements of an ideal trag...\n",
      "1    in complete sentences, summarize the structure...\n",
      "2    summarize how the third wave developed over su...\n",
      "3    summarize the various ways the factory would u...\n",
      "Name: prompt_question, dtype: object\n",
      "0                   on tragedy\n",
      "1    egyptian social structure\n",
      "2               the third wave\n",
      "3      excerpt from the jungle\n",
      "Name: prompt_title, dtype: object\n",
      "0    chapter 13 as the sequel to what has already b...\n",
      "1    egyptian society was structured like a pyramid...\n",
      "2    background the third wave experiment took plac...\n",
      "3    with one member trimming beef in a cannery, an...\n",
      "Name: prompt_text, dtype: object\n"
     ]
    }
   ],
   "source": [
    "# convert upper case to lower case \n",
    "import re\n",
    "import string\n",
    "\n",
    "summaries[\"text\"] = summaries[\"text\"].apply(lambda x: \" \".join(x.lower() for x in x.split()))\n",
    "print(summaries['text'].head(5))\n",
    "summaries[\"prompt_id\"] = summaries[\"prompt_id\"].apply(lambda x: \" \".join(x.lower() for x in x.split()))\n",
    "print(summaries['prompt_id'].head(5))\n",
    "summaries[\"student_id\"] = summaries[\"student_id\"].apply(lambda x: \" \".join(x.lower() for x in x.split()))\n",
    "print(summaries['student_id'].head(5))\n",
    "\n",
    "prompt_cols = prompts.columns\n",
    "for col in prompt_cols:\n",
    "    prompts[col] = prompts[col].apply(lambda x: \" \".join(x.lower() for x in x.split()))\n",
    "    print(prompts[col].head(5))"
   ]
  },
  {
   "cell_type": "code",
   "execution_count": 26,
   "metadata": {},
   "outputs": [
    {
     "name": "stdout",
     "output_type": "stream",
     "text": [
      "0    the third wave was an experimentto see how peo...\n",
      "1    they would rub it up with soda to make the sme...\n",
      "2    in egypt, there were many occupations and soci...\n",
      "3    the highest class was pharaohs these people we...\n",
      "4    the third wave developed rapidly because the s...\n",
      "Name: text, dtype: object\n",
      "0    chapter 13 as the sequel to what has already b...\n",
      "1    egyptian society was structured like a pyramid...\n",
      "2    background the third wave experiment took plac...\n",
      "3    with one member trimming beef in a cannery, an...\n",
      "Name: prompt_text, dtype: object\n",
      "0    summarize at least 3 elements of an ideal trag...\n",
      "1    in complete sentences, summarize the structure...\n",
      "2    summarize how the third wave developed over su...\n",
      "3    summarize the various ways the factory would u...\n",
      "Name: prompt_question, dtype: object\n"
     ]
    }
   ],
   "source": [
    "# remove links\n",
    "summaries['text'] = summaries['text'].apply(lambda x: \" \".join(re.sub(r'^https?:\\/\\/.*[\\r\\n]*', '', x, flags=re.MULTILINE) for x in x.split()))\n",
    "print(summaries['text'].head(5))\n",
    "prompts['prompt_text'] = prompts['prompt_text'].apply(lambda x: \" \".join(re.sub(r'^https?:\\/\\/.*[\\r\\n]*', '', x, flags=re.MULTILINE) for x in x.split()))\n",
    "print(prompts['prompt_text'].head(5))\n",
    "prompts['prompt_question'] = prompts['prompt_question'].apply(lambda x: \" \".join(re.sub(r'^https?:\\/\\/.*[\\r\\n]*', '', x, flags=re.MULTILINE) for x in x.split()))\n",
    "print(prompts['prompt_question'].head(5))"
   ]
  },
  {
   "cell_type": "code",
   "execution_count": 27,
   "metadata": {},
   "outputs": [],
   "source": [
    "# remove punctuation\n",
    "def remove_punctuations(text):\n",
    "    for punctuation in string.punctuation:\n",
    "        text = text.replace(punctuation, '')\n",
    "    return text\n",
    "\n",
    "summaries[\"text\"] = summaries[\"text\"].apply(remove_punctuations)\n",
    "\n",
    "prompts[\"prompt_text\"] = prompts[\"prompt_text\"].apply(remove_punctuations)\n",
    "\n",
    "prompts[\"prompt_question\"] = prompts[\"prompt_question\"].apply(remove_punctuations)"
   ]
  },
  {
   "cell_type": "code",
   "execution_count": 28,
   "metadata": {},
   "outputs": [
    {
     "data": {
      "text/html": [
       "<div>\n",
       "<style scoped>\n",
       "    .dataframe tbody tr th:only-of-type {\n",
       "        vertical-align: middle;\n",
       "    }\n",
       "\n",
       "    .dataframe tbody tr th {\n",
       "        vertical-align: top;\n",
       "    }\n",
       "\n",
       "    .dataframe thead th {\n",
       "        text-align: right;\n",
       "    }\n",
       "</style>\n",
       "<table border=\"1\" class=\"dataframe\">\n",
       "  <thead>\n",
       "    <tr style=\"text-align: right;\">\n",
       "      <th></th>\n",
       "      <th>student_id</th>\n",
       "      <th>prompt_id</th>\n",
       "      <th>text</th>\n",
       "      <th>content</th>\n",
       "      <th>wording</th>\n",
       "    </tr>\n",
       "  </thead>\n",
       "  <tbody>\n",
       "    <tr>\n",
       "      <th>0</th>\n",
       "      <td>000e8c3c7ddb</td>\n",
       "      <td>814d6b</td>\n",
       "      <td>the third wave was an experimentto see how peo...</td>\n",
       "      <td>0.205683</td>\n",
       "      <td>0.380538</td>\n",
       "    </tr>\n",
       "    <tr>\n",
       "      <th>1</th>\n",
       "      <td>0020ae56ffbf</td>\n",
       "      <td>ebad26</td>\n",
       "      <td>they would rub it up with soda to make the sme...</td>\n",
       "      <td>-0.548304</td>\n",
       "      <td>0.506755</td>\n",
       "    </tr>\n",
       "    <tr>\n",
       "      <th>2</th>\n",
       "      <td>004e978e639e</td>\n",
       "      <td>3b9047</td>\n",
       "      <td>in egypt there were many occupations and socia...</td>\n",
       "      <td>3.128928</td>\n",
       "      <td>4.231226</td>\n",
       "    </tr>\n",
       "    <tr>\n",
       "      <th>3</th>\n",
       "      <td>005ab0199905</td>\n",
       "      <td>3b9047</td>\n",
       "      <td>the highest class was pharaohs these people we...</td>\n",
       "      <td>-0.210614</td>\n",
       "      <td>-0.471415</td>\n",
       "    </tr>\n",
       "    <tr>\n",
       "      <th>4</th>\n",
       "      <td>0070c9e7af47</td>\n",
       "      <td>814d6b</td>\n",
       "      <td>the third wave developed rapidly because the s...</td>\n",
       "      <td>3.272894</td>\n",
       "      <td>3.219757</td>\n",
       "    </tr>\n",
       "    <tr>\n",
       "      <th>...</th>\n",
       "      <td>...</td>\n",
       "      <td>...</td>\n",
       "      <td>...</td>\n",
       "      <td>...</td>\n",
       "      <td>...</td>\n",
       "    </tr>\n",
       "    <tr>\n",
       "      <th>7160</th>\n",
       "      <td>ff7c7e70df07</td>\n",
       "      <td>ebad26</td>\n",
       "      <td>they used all sorts of chemical concoctions to...</td>\n",
       "      <td>0.205683</td>\n",
       "      <td>0.380538</td>\n",
       "    </tr>\n",
       "    <tr>\n",
       "      <th>7161</th>\n",
       "      <td>ffc34d056498</td>\n",
       "      <td>3b9047</td>\n",
       "      <td>the lowest classes are slaves and farmers slav...</td>\n",
       "      <td>-0.308448</td>\n",
       "      <td>0.048171</td>\n",
       "    </tr>\n",
       "    <tr>\n",
       "      <th>7162</th>\n",
       "      <td>ffd1576d2e1b</td>\n",
       "      <td>3b9047</td>\n",
       "      <td>they sorta made people start working on the st...</td>\n",
       "      <td>-1.408180</td>\n",
       "      <td>-0.493603</td>\n",
       "    </tr>\n",
       "    <tr>\n",
       "      <th>7163</th>\n",
       "      <td>ffe4a98093b2</td>\n",
       "      <td>39c16e</td>\n",
       "      <td>an ideal tragety has three elements that make ...</td>\n",
       "      <td>-0.393310</td>\n",
       "      <td>0.627128</td>\n",
       "    </tr>\n",
       "    <tr>\n",
       "      <th>7164</th>\n",
       "      <td>fffbccfd8a08</td>\n",
       "      <td>ebad26</td>\n",
       "      <td>the meat would smell sour but the would rub it...</td>\n",
       "      <td>1.771596</td>\n",
       "      <td>0.547742</td>\n",
       "    </tr>\n",
       "  </tbody>\n",
       "</table>\n",
       "<p>7165 rows × 5 columns</p>\n",
       "</div>"
      ],
      "text/plain": [
       "        student_id prompt_id  \\\n",
       "0     000e8c3c7ddb    814d6b   \n",
       "1     0020ae56ffbf    ebad26   \n",
       "2     004e978e639e    3b9047   \n",
       "3     005ab0199905    3b9047   \n",
       "4     0070c9e7af47    814d6b   \n",
       "...            ...       ...   \n",
       "7160  ff7c7e70df07    ebad26   \n",
       "7161  ffc34d056498    3b9047   \n",
       "7162  ffd1576d2e1b    3b9047   \n",
       "7163  ffe4a98093b2    39c16e   \n",
       "7164  fffbccfd8a08    ebad26   \n",
       "\n",
       "                                                   text   content   wording  \n",
       "0     the third wave was an experimentto see how peo...  0.205683  0.380538  \n",
       "1     they would rub it up with soda to make the sme... -0.548304  0.506755  \n",
       "2     in egypt there were many occupations and socia...  3.128928  4.231226  \n",
       "3     the highest class was pharaohs these people we... -0.210614 -0.471415  \n",
       "4     the third wave developed rapidly because the s...  3.272894  3.219757  \n",
       "...                                                 ...       ...       ...  \n",
       "7160  they used all sorts of chemical concoctions to...  0.205683  0.380538  \n",
       "7161  the lowest classes are slaves and farmers slav... -0.308448  0.048171  \n",
       "7162  they sorta made people start working on the st... -1.408180 -0.493603  \n",
       "7163  an ideal tragety has three elements that make ... -0.393310  0.627128  \n",
       "7164  the meat would smell sour but the would rub it...  1.771596  0.547742  \n",
       "\n",
       "[7165 rows x 5 columns]"
      ]
     },
     "execution_count": 28,
     "metadata": {},
     "output_type": "execute_result"
    }
   ],
   "source": [
    "summaries"
   ]
  },
  {
   "cell_type": "code",
   "execution_count": 29,
   "metadata": {},
   "outputs": [
    {
     "data": {
      "text/html": [
       "<div>\n",
       "<style scoped>\n",
       "    .dataframe tbody tr th:only-of-type {\n",
       "        vertical-align: middle;\n",
       "    }\n",
       "\n",
       "    .dataframe tbody tr th {\n",
       "        vertical-align: top;\n",
       "    }\n",
       "\n",
       "    .dataframe thead th {\n",
       "        text-align: right;\n",
       "    }\n",
       "</style>\n",
       "<table border=\"1\" class=\"dataframe\">\n",
       "  <thead>\n",
       "    <tr style=\"text-align: right;\">\n",
       "      <th></th>\n",
       "      <th>prompt_id</th>\n",
       "      <th>prompt_question</th>\n",
       "      <th>prompt_title</th>\n",
       "      <th>prompt_text</th>\n",
       "    </tr>\n",
       "  </thead>\n",
       "  <tbody>\n",
       "    <tr>\n",
       "      <th>0</th>\n",
       "      <td>39c16e</td>\n",
       "      <td>summarize at least 3 elements of an ideal trag...</td>\n",
       "      <td>on tragedy</td>\n",
       "      <td>chapter 13 as the sequel to what has already b...</td>\n",
       "    </tr>\n",
       "    <tr>\n",
       "      <th>1</th>\n",
       "      <td>3b9047</td>\n",
       "      <td>in complete sentences summarize the structure ...</td>\n",
       "      <td>egyptian social structure</td>\n",
       "      <td>egyptian society was structured like a pyramid...</td>\n",
       "    </tr>\n",
       "    <tr>\n",
       "      <th>2</th>\n",
       "      <td>814d6b</td>\n",
       "      <td>summarize how the third wave developed over su...</td>\n",
       "      <td>the third wave</td>\n",
       "      <td>background the third wave experiment took plac...</td>\n",
       "    </tr>\n",
       "    <tr>\n",
       "      <th>3</th>\n",
       "      <td>ebad26</td>\n",
       "      <td>summarize the various ways the factory would u...</td>\n",
       "      <td>excerpt from the jungle</td>\n",
       "      <td>with one member trimming beef in a cannery and...</td>\n",
       "    </tr>\n",
       "  </tbody>\n",
       "</table>\n",
       "</div>"
      ],
      "text/plain": [
       "  prompt_id                                    prompt_question  \\\n",
       "0    39c16e  summarize at least 3 elements of an ideal trag...   \n",
       "1    3b9047  in complete sentences summarize the structure ...   \n",
       "2    814d6b  summarize how the third wave developed over su...   \n",
       "3    ebad26  summarize the various ways the factory would u...   \n",
       "\n",
       "                prompt_title  \\\n",
       "0                 on tragedy   \n",
       "1  egyptian social structure   \n",
       "2             the third wave   \n",
       "3    excerpt from the jungle   \n",
       "\n",
       "                                         prompt_text  \n",
       "0  chapter 13 as the sequel to what has already b...  \n",
       "1  egyptian society was structured like a pyramid...  \n",
       "2  background the third wave experiment took plac...  \n",
       "3  with one member trimming beef in a cannery and...  "
      ]
     },
     "execution_count": 29,
     "metadata": {},
     "output_type": "execute_result"
    }
   ],
   "source": [
    "prompts"
   ]
  },
  {
   "cell_type": "code",
   "execution_count": 30,
   "metadata": {},
   "outputs": [
    {
     "data": {
      "text/plain": [
       "0    chapter 13 as the sequel to what has already b...\n",
       "1    egyptian society was structured like a pyramid...\n",
       "2    background the third wave experiment took plac...\n",
       "3    with one member trimming beef in a cannery and...\n",
       "Name: prompt_text, dtype: object"
      ]
     },
     "execution_count": 30,
     "metadata": {},
     "output_type": "execute_result"
    }
   ],
   "source": [
    "prompts['prompt_text']"
   ]
  },
  {
   "cell_type": "code",
   "execution_count": 31,
   "metadata": {},
   "outputs": [
    {
     "name": "stdout",
     "output_type": "stream",
     "text": [
      "Requirement already satisfied: inflect in c:\\users\\acer\\appdata\\local\\programs\\python\\python310\\lib\\site-packages (7.0.0)\n",
      "Requirement already satisfied: pydantic>=1.9.1 in c:\\users\\acer\\appdata\\local\\programs\\python\\python310\\lib\\site-packages (from inflect) (2.1.1)\n",
      "Requirement already satisfied: typing-extensions in c:\\users\\acer\\appdata\\local\\programs\\python\\python310\\lib\\site-packages (from inflect) (4.7.1)\n",
      "Requirement already satisfied: annotated-types>=0.4.0 in c:\\users\\acer\\appdata\\local\\programs\\python\\python310\\lib\\site-packages (from pydantic>=1.9.1->inflect) (0.5.0)\n",
      "Requirement already satisfied: pydantic-core==2.4.0 in c:\\users\\acer\\appdata\\local\\programs\\python\\python310\\lib\\site-packages (from pydantic>=1.9.1->inflect) (2.4.0)\n"
     ]
    },
    {
     "name": "stderr",
     "output_type": "stream",
     "text": [
      "\n",
      "[notice] A new release of pip is available: 23.0.1 -> 23.2.1\n",
      "[notice] To update, run: python.exe -m pip install --upgrade pip\n"
     ]
    }
   ],
   "source": [
    "!pip install inflect"
   ]
  },
  {
   "cell_type": "code",
   "execution_count": 32,
   "metadata": {},
   "outputs": [],
   "source": [
    "# # remove numbers\n",
    "# summaries[\"text\"] = summaries['text'].str.replace('\\d+', '', regex=True)\n",
    "# prompts[\"prompt_text\"] = prompts['prompt_text'].str.replace('\\d+', '', regex=True)"
   ]
  },
  {
   "cell_type": "code",
   "execution_count": 33,
   "metadata": {},
   "outputs": [
    {
     "data": {
      "text/html": [
       "<div>\n",
       "<style scoped>\n",
       "    .dataframe tbody tr th:only-of-type {\n",
       "        vertical-align: middle;\n",
       "    }\n",
       "\n",
       "    .dataframe tbody tr th {\n",
       "        vertical-align: top;\n",
       "    }\n",
       "\n",
       "    .dataframe thead th {\n",
       "        text-align: right;\n",
       "    }\n",
       "</style>\n",
       "<table border=\"1\" class=\"dataframe\">\n",
       "  <thead>\n",
       "    <tr style=\"text-align: right;\">\n",
       "      <th></th>\n",
       "      <th>prompt_id</th>\n",
       "      <th>prompt_question</th>\n",
       "      <th>prompt_title</th>\n",
       "      <th>prompt_text</th>\n",
       "    </tr>\n",
       "  </thead>\n",
       "  <tbody>\n",
       "    <tr>\n",
       "      <th>0</th>\n",
       "      <td>39c16e</td>\n",
       "      <td>summarize at least three elements of an ideal ...</td>\n",
       "      <td>on tragedy</td>\n",
       "      <td>chapter thirteen as the sequel to what has alr...</td>\n",
       "    </tr>\n",
       "    <tr>\n",
       "      <th>1</th>\n",
       "      <td>3b9047</td>\n",
       "      <td>in complete sentences summarize the structure ...</td>\n",
       "      <td>egyptian social structure</td>\n",
       "      <td>egyptian society was structured like a pyramid...</td>\n",
       "    </tr>\n",
       "    <tr>\n",
       "      <th>2</th>\n",
       "      <td>814d6b</td>\n",
       "      <td>summarize how the third wave developed over su...</td>\n",
       "      <td>the third wave</td>\n",
       "      <td>background the third wave experiment took plac...</td>\n",
       "    </tr>\n",
       "    <tr>\n",
       "      <th>3</th>\n",
       "      <td>ebad26</td>\n",
       "      <td>summarize the various ways the factory would u...</td>\n",
       "      <td>excerpt from the jungle</td>\n",
       "      <td>with one member trimming beef in a cannery and...</td>\n",
       "    </tr>\n",
       "  </tbody>\n",
       "</table>\n",
       "</div>"
      ],
      "text/plain": [
       "  prompt_id                                    prompt_question  \\\n",
       "0    39c16e  summarize at least three elements of an ideal ...   \n",
       "1    3b9047  in complete sentences summarize the structure ...   \n",
       "2    814d6b  summarize how the third wave developed over su...   \n",
       "3    ebad26  summarize the various ways the factory would u...   \n",
       "\n",
       "                prompt_title  \\\n",
       "0                 on tragedy   \n",
       "1  egyptian social structure   \n",
       "2             the third wave   \n",
       "3    excerpt from the jungle   \n",
       "\n",
       "                                         prompt_text  \n",
       "0  chapter thirteen as the sequel to what has alr...  \n",
       "1  egyptian society was structured like a pyramid...  \n",
       "2  background the third wave experiment took plac...  \n",
       "3  with one member trimming beef in a cannery and...  "
      ]
     },
     "execution_count": 33,
     "metadata": {},
     "output_type": "execute_result"
    }
   ],
   "source": [
    "import inflect\n",
    "inflect_instance = inflect.engine()\n",
    "\n",
    "# Regular expression pattern to find numbers in the text\n",
    "pattern = r'\\d+(\\.\\d+)?'\n",
    "\n",
    "# Function to convert numbers to words\n",
    "def replace_numbers(match):\n",
    "    num = match.group()\n",
    "    num_word = inflect_instance.number_to_words(num)\n",
    "    return num_word\n",
    "\n",
    "# Apply the replacement function to the 'text_column'\n",
    "summaries['text'] = summaries['text'].apply(lambda x: re.sub(pattern, replace_numbers, x))\n",
    "summaries\n",
    "\n",
    "wanted = ['prompt_question','prompt_title','prompt_text']\n",
    "for col in wanted:\n",
    "    prompts[col] = prompts[col].apply(lambda x: re.sub(pattern, replace_numbers, x))\n",
    "prompts"
   ]
  },
  {
   "cell_type": "code",
   "execution_count": 34,
   "metadata": {},
   "outputs": [
    {
     "name": "stdout",
     "output_type": "stream",
     "text": [
      "Requirement already satisfied: nltk in c:\\users\\acer\\appdata\\local\\programs\\python\\python310\\lib\\site-packages (3.8.1)\n",
      "Requirement already satisfied: regex>=2021.8.3 in c:\\users\\acer\\appdata\\local\\programs\\python\\python310\\lib\\site-packages (from nltk) (2023.8.8)\n",
      "Requirement already satisfied: tqdm in c:\\users\\acer\\appdata\\local\\programs\\python\\python310\\lib\\site-packages (from nltk) (4.66.1)\n",
      "Requirement already satisfied: joblib in c:\\users\\acer\\appdata\\local\\programs\\python\\python310\\lib\\site-packages (from nltk) (1.2.0)\n",
      "Requirement already satisfied: click in c:\\users\\acer\\appdata\\local\\programs\\python\\python310\\lib\\site-packages (from nltk) (8.1.6)\n",
      "Requirement already satisfied: colorama in c:\\users\\acer\\appdata\\local\\programs\\python\\python310\\lib\\site-packages (from click->nltk) (0.4.6)\n"
     ]
    },
    {
     "name": "stderr",
     "output_type": "stream",
     "text": [
      "\n",
      "[notice] A new release of pip is available: 23.0.1 -> 23.2.1\n",
      "[notice] To update, run: python.exe -m pip install --upgrade pip\n"
     ]
    }
   ],
   "source": [
    "!pip install nltk"
   ]
  },
  {
   "cell_type": "code",
   "execution_count": 49,
   "metadata": {},
   "outputs": [
    {
     "name": "stdout",
     "output_type": "stream",
     "text": [
      "ro\n",
      "egyptian social structure\n"
     ]
    }
   ],
   "source": [
    "# find outliers \n",
    "from langdetect import detect\n",
    "from nltk.corpus import words\n",
    "\n",
    "count = 0\n",
    "def english_detector(text):\n",
    "    detected_language = detect(text)\n",
    "    if detected_language == \"en\" :\n",
    "        None\n",
    "    else:\n",
    "        print(detected_language)\n",
    "        print(text)\n",
    "\n",
    "prompt_text = prompts.drop(columns=['prompt_id'])    \n",
    "summary_text = summaries['text']\n",
    "\n",
    "for column in prompt_text.columns:\n",
    "    detected_languages = [english_detector(text) for text in prompt_text[column]]\n",
    "\n",
    "detected_languages = [english_detector(text) for text in summary_text]"
   ]
  },
  {
   "cell_type": "code",
   "execution_count": 33,
   "metadata": {},
   "outputs": [],
   "source": [
    "import nltk"
   ]
  },
  {
   "cell_type": "code",
   "execution_count": 34,
   "metadata": {},
   "outputs": [
    {
     "name": "stderr",
     "output_type": "stream",
     "text": [
      "[nltk_data] Downloading package stopwords to ../static/model...\n",
      "[nltk_data]   Package stopwords is already up-to-date!\n"
     ]
    },
    {
     "data": {
      "text/plain": [
       "True"
      ]
     },
     "execution_count": 34,
     "metadata": {},
     "output_type": "execute_result"
    }
   ],
   "source": [
    "nltk.download('stopwords', download_dir='../static/model')"
   ]
  },
  {
   "cell_type": "code",
   "execution_count": 35,
   "metadata": {},
   "outputs": [
    {
     "data": {
      "text/plain": [
       "['i',\n",
       " 'me',\n",
       " 'my',\n",
       " 'myself',\n",
       " 'we',\n",
       " 'our',\n",
       " 'ours',\n",
       " 'ourselves',\n",
       " 'you',\n",
       " \"you're\",\n",
       " \"you've\",\n",
       " \"you'll\",\n",
       " \"you'd\",\n",
       " 'your',\n",
       " 'yours',\n",
       " 'yourself',\n",
       " 'yourselves',\n",
       " 'he',\n",
       " 'him',\n",
       " 'his',\n",
       " 'himself',\n",
       " 'she',\n",
       " \"she's\",\n",
       " 'her',\n",
       " 'hers',\n",
       " 'herself',\n",
       " 'it',\n",
       " \"it's\",\n",
       " 'its',\n",
       " 'itself',\n",
       " 'they',\n",
       " 'them',\n",
       " 'their',\n",
       " 'theirs',\n",
       " 'themselves',\n",
       " 'what',\n",
       " 'which',\n",
       " 'who',\n",
       " 'whom',\n",
       " 'this',\n",
       " 'that',\n",
       " \"that'll\",\n",
       " 'these',\n",
       " 'those',\n",
       " 'am',\n",
       " 'is',\n",
       " 'are',\n",
       " 'was',\n",
       " 'were',\n",
       " 'be',\n",
       " 'been',\n",
       " 'being',\n",
       " 'have',\n",
       " 'has',\n",
       " 'had',\n",
       " 'having',\n",
       " 'do',\n",
       " 'does',\n",
       " 'did',\n",
       " 'doing',\n",
       " 'a',\n",
       " 'an',\n",
       " 'the',\n",
       " 'and',\n",
       " 'but',\n",
       " 'if',\n",
       " 'or',\n",
       " 'because',\n",
       " 'as',\n",
       " 'until',\n",
       " 'while',\n",
       " 'of',\n",
       " 'at',\n",
       " 'by',\n",
       " 'for',\n",
       " 'with',\n",
       " 'about',\n",
       " 'against',\n",
       " 'between',\n",
       " 'into',\n",
       " 'through',\n",
       " 'during',\n",
       " 'before',\n",
       " 'after',\n",
       " 'above',\n",
       " 'below',\n",
       " 'to',\n",
       " 'from',\n",
       " 'up',\n",
       " 'down',\n",
       " 'in',\n",
       " 'out',\n",
       " 'on',\n",
       " 'off',\n",
       " 'over',\n",
       " 'under',\n",
       " 'again',\n",
       " 'further',\n",
       " 'then',\n",
       " 'once',\n",
       " 'here',\n",
       " 'there',\n",
       " 'when',\n",
       " 'where',\n",
       " 'why',\n",
       " 'how',\n",
       " 'all',\n",
       " 'any',\n",
       " 'both',\n",
       " 'each',\n",
       " 'few',\n",
       " 'more',\n",
       " 'most',\n",
       " 'other',\n",
       " 'some',\n",
       " 'such',\n",
       " 'no',\n",
       " 'nor',\n",
       " 'not',\n",
       " 'only',\n",
       " 'own',\n",
       " 'same',\n",
       " 'so',\n",
       " 'than',\n",
       " 'too',\n",
       " 'very',\n",
       " 's',\n",
       " 't',\n",
       " 'can',\n",
       " 'will',\n",
       " 'just',\n",
       " 'don',\n",
       " \"don't\",\n",
       " 'should',\n",
       " \"should've\",\n",
       " 'now',\n",
       " 'd',\n",
       " 'll',\n",
       " 'm',\n",
       " 'o',\n",
       " 're',\n",
       " 've',\n",
       " 'y',\n",
       " 'ain',\n",
       " 'aren',\n",
       " \"aren't\",\n",
       " 'couldn',\n",
       " \"couldn't\",\n",
       " 'didn',\n",
       " \"didn't\",\n",
       " 'doesn',\n",
       " \"doesn't\",\n",
       " 'hadn',\n",
       " \"hadn't\",\n",
       " 'hasn',\n",
       " \"hasn't\",\n",
       " 'haven',\n",
       " \"haven't\",\n",
       " 'isn',\n",
       " \"isn't\",\n",
       " 'ma',\n",
       " 'mightn',\n",
       " \"mightn't\",\n",
       " 'mustn',\n",
       " \"mustn't\",\n",
       " 'needn',\n",
       " \"needn't\",\n",
       " 'shan',\n",
       " \"shan't\",\n",
       " 'shouldn',\n",
       " \"shouldn't\",\n",
       " 'wasn',\n",
       " \"wasn't\",\n",
       " 'weren',\n",
       " \"weren't\",\n",
       " 'won',\n",
       " \"won't\",\n",
       " 'wouldn',\n",
       " \"wouldn't\"]"
      ]
     },
     "execution_count": 35,
     "metadata": {},
     "output_type": "execute_result"
    }
   ],
   "source": [
    "with open('../static/model/corpora/stopwords/english', 'r') as file:\n",
    "    sw = file.read().splitlines()\n",
    "sw"
   ]
  },
  {
   "cell_type": "code",
   "execution_count": 36,
   "metadata": {},
   "outputs": [],
   "source": [
    "summaries[\"text\"] = summaries[\"text\"].apply(lambda x: \" \".join(x for x in x.split() if x not in sw))"
   ]
  },
  {
   "cell_type": "code",
   "execution_count": 37,
   "metadata": {},
   "outputs": [
    {
     "data": {
      "text/plain": [
       "0    third wave experimentto see peopl react new on...\n",
       "1    would rub soda make smell go away wouldnt bad ...\n",
       "2    egypt mani occup social class involv daytoday ...\n",
       "3    highest class pharaoh peopl godsthen twond hig...\n",
       "4    third wave develop rapidli student genuinli be...\n",
       "Name: text, dtype: object"
      ]
     },
     "execution_count": 37,
     "metadata": {},
     "output_type": "execute_result"
    }
   ],
   "source": [
    "# stemming\n",
    "from nltk.stem import PorterStemmer\n",
    "ps = PorterStemmer()\n",
    "summaries[\"text\"] = summaries[\"text\"].apply(lambda x: \" \".join(ps.stem(x) for x in x.split()))\n",
    "summaries[\"text\"].head()"
   ]
  },
  {
   "cell_type": "code",
   "execution_count": 25,
   "metadata": {},
   "outputs": [
    {
     "data": {
      "text/plain": [
       "4.3106931513921"
      ]
     },
     "execution_count": 25,
     "metadata": {},
     "output_type": "execute_result"
    }
   ],
   "source": [
    "summaries['wording'].max()"
   ]
  },
  {
   "cell_type": "markdown",
   "metadata": {},
   "source": [
    "## Building Vocabulary"
   ]
  },
  {
   "cell_type": "code",
   "execution_count": 51,
   "metadata": {},
   "outputs": [],
   "source": [
    "from collections import Counter\n",
    "vocab = Counter()"
   ]
  },
  {
   "cell_type": "code",
   "execution_count": null,
   "metadata": {},
   "outputs": [],
   "source": []
  }
 ],
 "metadata": {
  "kernelspec": {
   "display_name": "Python 3 (ipykernel)",
   "language": "python",
   "name": "python3"
  },
  "language_info": {
   "codemirror_mode": {
    "name": "ipython",
    "version": 3
   },
   "file_extension": ".py",
   "mimetype": "text/x-python",
   "name": "python",
   "nbconvert_exporter": "python",
   "pygments_lexer": "ipython3",
   "version": "3.10.0"
  }
 },
 "nbformat": 4,
 "nbformat_minor": 4
}
