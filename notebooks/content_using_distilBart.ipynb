{
  "cells": [
    {
      "cell_type": "code",
      "execution_count": 1,
      "metadata": {
        "colab": {
          "base_uri": "https://localhost:8080/",
          "height": 36
        },
        "id": "OSln-GCTtG_u",
        "outputId": "6f45b84c-18f5-4026-c06d-15727c2c48d4"
      },
      "outputs": [
        {
          "data": {
            "text/plain": [
              "'d:\\\\Pavan\\\\ScriboSense\\\\notebooks\\\\Newer Versions'"
            ]
          },
          "execution_count": 1,
          "metadata": {},
          "output_type": "execute_result"
        }
      ],
      "source": [
        "%pwd"
      ]
    },
    {
      "cell_type": "code",
      "execution_count": 2,
      "metadata": {
        "colab": {
          "base_uri": "https://localhost:8080/"
        },
        "id": "mMy06syRyOm-",
        "outputId": "d4b1d92e-8185-46e9-9ada-1f399facd174"
      },
      "outputs": [
        {
          "name": "stdout",
          "output_type": "stream",
          "text": [
            "Requirement already satisfied: rouge in c:\\users\\pavan\\appdata\\local\\programs\\python\\python311\\lib\\site-packages (1.0.1)\n",
            "Requirement already satisfied: transformers in c:\\users\\pavan\\appdata\\local\\programs\\python\\python311\\lib\\site-packages (4.34.1)\n",
            "Requirement already satisfied: six in c:\\users\\pavan\\appdata\\local\\programs\\python\\python311\\lib\\site-packages (from rouge) (1.16.0)\n",
            "Requirement already satisfied: filelock in c:\\users\\pavan\\appdata\\local\\programs\\python\\python311\\lib\\site-packages (from transformers) (3.12.4)\n",
            "Requirement already satisfied: huggingface-hub<1.0,>=0.16.4 in c:\\users\\pavan\\appdata\\local\\programs\\python\\python311\\lib\\site-packages (from transformers) (0.17.3)\n",
            "Requirement already satisfied: numpy>=1.17 in c:\\users\\pavan\\appdata\\local\\programs\\python\\python311\\lib\\site-packages (from transformers) (1.26.1)\n",
            "Requirement already satisfied: packaging>=20.0 in c:\\users\\pavan\\appdata\\local\\programs\\python\\python311\\lib\\site-packages (from transformers) (23.2)\n",
            "Requirement already satisfied: pyyaml>=5.1 in c:\\users\\pavan\\appdata\\local\\programs\\python\\python311\\lib\\site-packages (from transformers) (6.0.1)\n",
            "Requirement already satisfied: regex!=2019.12.17 in c:\\users\\pavan\\appdata\\local\\programs\\python\\python311\\lib\\site-packages (from transformers) (2023.10.3)\n",
            "Requirement already satisfied: requests in c:\\users\\pavan\\appdata\\local\\programs\\python\\python311\\lib\\site-packages (from transformers) (2.31.0)\n",
            "Requirement already satisfied: tokenizers<0.15,>=0.14 in c:\\users\\pavan\\appdata\\local\\programs\\python\\python311\\lib\\site-packages (from transformers) (0.14.1)\n",
            "Requirement already satisfied: safetensors>=0.3.1 in c:\\users\\pavan\\appdata\\local\\programs\\python\\python311\\lib\\site-packages (from transformers) (0.4.0)\n",
            "Requirement already satisfied: tqdm>=4.27 in c:\\users\\pavan\\appdata\\local\\programs\\python\\python311\\lib\\site-packages (from transformers) (4.66.1)\n",
            "Requirement already satisfied: fsspec in c:\\users\\pavan\\appdata\\local\\programs\\python\\python311\\lib\\site-packages (from huggingface-hub<1.0,>=0.16.4->transformers) (2023.9.2)\n",
            "Requirement already satisfied: typing-extensions>=3.7.4.3 in c:\\users\\pavan\\appdata\\local\\programs\\python\\python311\\lib\\site-packages (from huggingface-hub<1.0,>=0.16.4->transformers) (4.8.0)\n",
            "Requirement already satisfied: colorama in c:\\users\\pavan\\appdata\\local\\programs\\python\\python311\\lib\\site-packages (from tqdm>=4.27->transformers) (0.4.6)\n",
            "Requirement already satisfied: charset-normalizer<4,>=2 in c:\\users\\pavan\\appdata\\local\\programs\\python\\python311\\lib\\site-packages (from requests->transformers) (3.3.0)\n",
            "Requirement already satisfied: idna<4,>=2.5 in c:\\users\\pavan\\appdata\\local\\programs\\python\\python311\\lib\\site-packages (from requests->transformers) (3.4)\n",
            "Requirement already satisfied: urllib3<3,>=1.21.1 in c:\\users\\pavan\\appdata\\local\\programs\\python\\python311\\lib\\site-packages (from requests->transformers) (2.0.7)\n",
            "Requirement already satisfied: certifi>=2017.4.17 in c:\\users\\pavan\\appdata\\local\\programs\\python\\python311\\lib\\site-packages (from requests->transformers) (2023.7.22)\n",
            "Note: you may need to restart the kernel to use updated packages.\n"
          ]
        },
        {
          "name": "stderr",
          "output_type": "stream",
          "text": [
            "\n",
            "[notice] A new release of pip is available: 23.2.1 -> 23.3\n",
            "[notice] To update, run: python.exe -m pip install --upgrade pip\n"
          ]
        }
      ],
      "source": [
        "%pip install rouge transformers"
      ]
    },
    {
      "cell_type": "code",
      "execution_count": 2,
      "metadata": {
        "id": "6nME3B-UtG_v"
      },
      "outputs": [],
      "source": [
        "import os\n",
        "import nltk\n",
        "import numpy as np\n",
        "import pandas as pd\n",
        "import matplotlib as plt\n",
        "import inflect\n",
        "import re\n",
        "from nltk.stem import PorterStemmer\n",
        "import string\n",
        "from rouge import Rouge\n",
        "from nltk.tokenize import word_tokenize\n",
        "from textblob import TextBlob\n",
        "import torch\n",
        "from sklearn.feature_extraction.text import TfidfVectorizer\n",
        "from sklearn.metrics.pairwise import cosine_similarity\n",
        "from transformers import AutoTokenizer, AutoModelForSeq2SeqLM\n",
        "from transformers import BertTokenizer, BertModel\n",
        "import pickle\n",
        "import sentencepiece\n",
        "from gensim.models import Word2Vec"
      ]
    },
    {
      "cell_type": "code",
      "execution_count": null,
      "metadata": {},
      "outputs": [],
      "source": [
        "# with open('../static/model/LR_model.pickle', 'rb') as f:\n",
        "#     model = pickle.load(f)"
      ]
    },
    {
      "cell_type": "code",
      "execution_count": 3,
      "metadata": {
        "id": "EQvtiNZdtG_v"
      },
      "outputs": [],
      "source": [
        "# load datasetss\n",
        "prompts_train = pd.read_csv('../../artifacts/prompts_train.csv')\n",
        "summaries_train = pd.read_csv('../../artifacts/summaries_train.csv')\n",
        "prompts_test = pd.read_csv('../../artifacts/prompts_test.csv')\n",
        "summaries_test = pd.read_csv('../../artifacts/summaries_test.csv')\n",
        "sample_submission = pd.read_csv('../../artifacts/sample_submission.csv')"
      ]
    },
    {
      "cell_type": "code",
      "execution_count": 4,
      "metadata": {
        "id": "sFIMfzlntG_v"
      },
      "outputs": [],
      "source": [
        "# Preprocessing\n",
        "# --------------------------------------------------\n",
        "# Regular expression pattern to find numbers in the text\n",
        "pattern = r'\\d+(\\.\\d+)?'\n",
        "ps = PorterStemmer()\n",
        "inflect_instance = inflect.engine()\n",
        "def replace_numbers(match):\n",
        "    num = match.group()\n",
        "    num_word = inflect_instance.number_to_words(num)\n",
        "    return num_word\n",
        "def remove_punctuations(text):\n",
        "    for punctuation in string.punctuation:\n",
        "        text = text.replace(punctuation, '')\n",
        "    return text\n",
        "# ----------------------------------------------------\n",
        "\n",
        "def preprocessing(input):\n",
        "\n",
        "    cols = input.columns\n",
        "    for col in cols:\n",
        "        input[col] = input[col].apply(lambda x: \" \".join(x.lower() for x in x.split()))\n",
        "        input[col] = input[col].apply(lambda x: \" \".join(re.sub(r'^https?:\\/\\/.*[\\r\\n]*', '', x, flags=re.MULTILINE) for x in x.split()))\n",
        "        input[col] = input[col].apply(remove_punctuations)\n",
        "        input[col] = input[col].apply(lambda x: re.sub(pattern, replace_numbers, x))\n",
        "        input[col] = input[col].apply(lambda x: \" \".join(ps.stem(x) for x in x.split()))\n",
        "    return input"
      ]
    },
    {
      "cell_type": "code",
      "execution_count": 5,
      "metadata": {
        "id": "3zCtWFw5tG_w"
      },
      "outputs": [],
      "source": [
        "merged_train_ds = pd.merge(\n",
        "    prompts_train,\n",
        "    summaries_train,\n",
        "    how=\"inner\",\n",
        "    on='prompt_id',\n",
        "    sort=False,\n",
        "    validate=\"one_to_many\",\n",
        ")"
      ]
    },
    {
      "cell_type": "code",
      "execution_count": 6,
      "metadata": {
        "id": "B83X1CGAtG_w"
      },
      "outputs": [],
      "source": [
        "merged_train_ds = merged_train_ds.drop(columns=['prompt_id','student_id'])"
      ]
    },
    {
      "cell_type": "code",
      "execution_count": 7,
      "metadata": {
        "id": "eJYRw2KBtG_w"
      },
      "outputs": [],
      "source": [
        "preprocessed_texts = preprocessing(merged_train_ds.drop(columns=['content','wording']))"
      ]
    },
    {
      "cell_type": "code",
      "execution_count": 9,
      "metadata": {
        "id": "f6d_imFwtG_w"
      },
      "outputs": [],
      "source": [
        "cols_to_convert=['prompt_question','prompt_text','text']\n",
        "for column in cols_to_convert:\n",
        "    merged_train_ds[column] = preprocessed_texts[column]"
      ]
    },
    {
      "cell_type": "code",
      "execution_count": 13,
      "metadata": {
        "id": "q3-ryesAtG_w"
      },
      "outputs": [],
      "source": [
        "# calculating metrics\n",
        "#----------------------------------------------\n",
        "def rouge_features(generated_summary, reference_summary):\n",
        "    rouge = Rouge()\n",
        "    scores = rouge.get_scores(generated_summary, reference_summary)\n",
        "    return scores[0]['rouge-1']['f'], scores[0]['rouge-2']['f']\n",
        "def sentence_level_metrics(summary):\n",
        "    # Compute sentence-level metrics\n",
        "    sentences = summary.split('. ')  # Split into sentences\n",
        "    sentence_lengths = [len(word_tokenize(sentence)) for sentence in sentences]\n",
        "    readability_scores = [TextBlob(sentence).sentiment.polarity for sentence in sentences]\n",
        "    return sentence_lengths, readability_scores\n",
        "def text_embeddings(summary):\n",
        "    # Load pre-trained BERT model and tokenizer\n",
        "    model_name = 'bert-base-uncased'\n",
        "    tokenizer = BertTokenizer.from_pretrained(model_name)\n",
        "    model = BertModel.from_pretrained(model_name)\n",
        "\n",
        "    # Tokenize the summary text\n",
        "    tokens = tokenizer.tokenize(summary)\n",
        "    input_ids = tokenizer.convert_tokens_to_ids(tokens)\n",
        "    input_ids = torch.tensor(input_ids).unsqueeze(0)  # Add batch dimension\n",
        "\n",
        "    # Generate BERT-based embeddings\n",
        "    with torch.no_grad():\n",
        "        outputs = model(input_ids)\n",
        "        word_embeddings = outputs.last_hidden_state.squeeze().numpy()\n",
        "\n",
        "    return word_embeddings\n",
        "def content_based_features(generated_summary, reference_summary):\n",
        "    # Compute TF-IDF cosine similarity\n",
        "    tfidf_vectorizer = TfidfVectorizer()\n",
        "    tfidf_matrix = tfidf_vectorizer.fit_transform([generated_summary, reference_summary])\n",
        "    cosine_sim = cosine_similarity(tfidf_matrix[0], tfidf_matrix[1])\n",
        "    return cosine_sim\n",
        "#----------------------------------------------\n",
        "\n",
        "def calculate_features(input):\n",
        "    # Calculate features for each summary\n",
        "\n",
        "    # Initialize lists to store feature values\n",
        "    rouge_1_score = []\n",
        "    rouge_2_score = []\n",
        "    sentence_lengths = []\n",
        "    readability_scores = []\n",
        "    # word_embeddings = []\n",
        "    content_sim =[]\n",
        "    cosine_similarities = []\n",
        "\n",
        "    # Iterate through each row in the feature_dataset\n",
        "    for index, row in input.iterrows():\n",
        "        reference_summary = row['text']\n",
        "        generated_summary = row['generated_summary']\n",
        "        prompt_txt = row['prompt_text']\n",
        "\n",
        "        # Calculate features using your existing functions\n",
        "        rouge_score_1,rouge_score_2 = rouge_features(reference_summary, generated_summary)\n",
        "        sentence_length, readability_score = sentence_level_metrics(reference_summary)\n",
        "        # embedding = text_embeddings(reference_summary)\n",
        "        content_based_feature = content_based_features(reference_summary, generated_summary)\n",
        "\n",
        "        # Calculate cosine similarity between embeddings\n",
        "        # cosine_sim = cosine_similarity([embedding.mean(axis=0)], [embedding.mean(axis=0)])[0][0]\n",
        "\n",
        "        # Append feature values to lists\n",
        "        rouge_1_score.append(rouge_score_1)\n",
        "        rouge_2_score.append(rouge_score_2)\n",
        "        sentence_lengths.append(sentence_length[0])\n",
        "        readability_scores.append(readability_score[0])\n",
        "        # word_embeddings.append(embedding)\n",
        "        # cosine_similarities.append(cosine_sim)\n",
        "        content_sim.append(content_based_feature[0][0])\n",
        "\n",
        "    # Create a new DataFrame with calculated features\n",
        "    feature_columns = ['rouge_1_score','rouge_2_score', 'sentence_length', 'readability_score','content_sim']\n",
        "    features_df = pd.DataFrame(zip(rouge_1_score,rouge_2_score, sentence_lengths, readability_scores, content_sim), columns=feature_columns)\n",
        "\n",
        "    # Concatenate the original dataset and the calculated features\n",
        "    input.reset_index(drop=True,inplace=True)\n",
        "    features_df.reset_index(drop=True,inplace=True)\n",
        "    final_dataset = pd.concat([input, features_df], axis=1)\n",
        "    return final_dataset"
      ]
    },
    {
      "cell_type": "code",
      "execution_count": 11,
      "metadata": {
        "id": "zXYq250vtG_w"
      },
      "outputs": [],
      "source": [
        "# Generate summary\n",
        "def generate_summary(input):\n",
        "    # Load pre-trained model and tokenizer\n",
        "    model_name = \"sshleifer/distilbart-cnn-12-6\"\n",
        "    tokenizer = AutoTokenizer.from_pretrained(\"sshleifer/distilbart-cnn-12-6\")\n",
        "    model = AutoModelForSeq2SeqLM.from_pretrained(\"sshleifer/distilbart-cnn-12-6\")\n",
        "\n",
        "    generated_summaries = []\n",
        "\n",
        "    # Loop through each row in the dataset\n",
        "    for index, row in input.iterrows():\n",
        "        prompt_text = row['prompt_text']\n",
        "        prompt_title = row['prompt_title']\n",
        "\n",
        "        # Combine prompts\n",
        "        input_text = f\"{prompt_text} {prompt_title}\"\n",
        "\n",
        "        # Tokenize input and generate summary\n",
        "        input_ids = tokenizer.encode(input_text, return_tensors=\"pt\", max_length=1024, truncation=True)\n",
        "        summary_ids = model.generate(input_ids)\n",
        "        generated_summary = tokenizer.decode(summary_ids[0], skip_special_tokens=True)\n",
        "\n",
        "        # Append the generated summary to the list\n",
        "        generated_summaries.append(generated_summary)\n",
        "\n",
        "    # Add the generated summaries to the dataset as a new column\n",
        "    input['generated_summary'] = generated_summaries\n",
        "    return input"
      ]
    },
    {
      "cell_type": "code",
      "execution_count": null,
      "metadata": {
        "id": "SRN2mwDGtG_x"
      },
      "outputs": [],
      "source": [
        "# # predict the content score\n",
        "# def get_content_score(input):\n",
        "#     content = model.predict(input)\n",
        "#     return content[0]"
      ]
    },
    {
      "cell_type": "code",
      "execution_count": 13,
      "metadata": {
        "colab": {
          "base_uri": "https://localhost:8080/"
        },
        "id": "mQ0VAYBPx0KE",
        "outputId": "d326cc14-ce74-4de9-adf5-a5077818e2b3"
      },
      "outputs": [
        {
          "name": "stderr",
          "output_type": "stream",
          "text": [
            "[nltk_data] Downloading package punkt to ../static/punkt...\n",
            "[nltk_data]   Package punkt is already up-to-date!\n"
          ]
        },
        {
          "data": {
            "text/plain": [
              "True"
            ]
          },
          "execution_count": 13,
          "metadata": {},
          "output_type": "execute_result"
        }
      ],
      "source": [
        "nltk.download('punkt',download_dir='../static/punkt')"
      ]
    },
    {
      "cell_type": "code",
      "execution_count": 8,
      "metadata": {},
      "outputs": [
        {
          "data": {
            "text/html": [
              "<div>\n",
              "<style scoped>\n",
              "    .dataframe tbody tr th:only-of-type {\n",
              "        vertical-align: middle;\n",
              "    }\n",
              "\n",
              "    .dataframe tbody tr th {\n",
              "        vertical-align: top;\n",
              "    }\n",
              "\n",
              "    .dataframe thead th {\n",
              "        text-align: right;\n",
              "    }\n",
              "</style>\n",
              "<table border=\"1\" class=\"dataframe\">\n",
              "  <thead>\n",
              "    <tr style=\"text-align: right;\">\n",
              "      <th></th>\n",
              "      <th>prompt_question</th>\n",
              "      <th>prompt_title</th>\n",
              "      <th>prompt_text</th>\n",
              "      <th>text</th>\n",
              "      <th>content</th>\n",
              "      <th>wording</th>\n",
              "    </tr>\n",
              "  </thead>\n",
              "  <tbody>\n",
              "    <tr>\n",
              "      <th>5564</th>\n",
              "      <td>Summarize the various ways the factory would u...</td>\n",
              "      <td>Excerpt from The Jungle</td>\n",
              "      <td>With one member trimming beef in a cannery, an...</td>\n",
              "      <td>paragraph two states that the spiled meat was ...</td>\n",
              "      <td>-0.548304</td>\n",
              "      <td>0.506755</td>\n",
              "    </tr>\n",
              "    <tr>\n",
              "      <th>6810</th>\n",
              "      <td>Summarize the various ways the factory would u...</td>\n",
              "      <td>Excerpt from The Jungle</td>\n",
              "      <td>With one member trimming beef in a cannery, an...</td>\n",
              "      <td>In line 14 it says that the spoiled meat would...</td>\n",
              "      <td>-1.547163</td>\n",
              "      <td>-1.461245</td>\n",
              "    </tr>\n",
              "    <tr>\n",
              "      <th>5421</th>\n",
              "      <td>Summarize the various ways the factory would u...</td>\n",
              "      <td>Excerpt from The Jungle</td>\n",
              "      <td>With one member trimming beef in a cannery, an...</td>\n",
              "      <td>The factory could alter the meat in their chem...</td>\n",
              "      <td>-0.670740</td>\n",
              "      <td>-0.540354</td>\n",
              "    </tr>\n",
              "    <tr>\n",
              "      <th>2007</th>\n",
              "      <td>Summarize at least 3 elements of an ideal trag...</td>\n",
              "      <td>On Tragedy</td>\n",
              "      <td>Chapter 13 \\r\\nAs the sequel to what has alrea...</td>\n",
              "      <td>A tragedy should include a downful of a man wh...</td>\n",
              "      <td>-0.002466</td>\n",
              "      <td>-0.045439</td>\n",
              "    </tr>\n",
              "    <tr>\n",
              "      <th>4218</th>\n",
              "      <td>Summarize how the Third Wave developed over su...</td>\n",
              "      <td>The Third Wave</td>\n",
              "      <td>Background \\r\\nThe Third Wave experiment took ...</td>\n",
              "      <td>The third wave started because people are very...</td>\n",
              "      <td>-0.173157</td>\n",
              "      <td>-0.128520</td>\n",
              "    </tr>\n",
              "    <tr>\n",
              "      <th>...</th>\n",
              "      <td>...</td>\n",
              "      <td>...</td>\n",
              "      <td>...</td>\n",
              "      <td>...</td>\n",
              "      <td>...</td>\n",
              "      <td>...</td>\n",
              "    </tr>\n",
              "    <tr>\n",
              "      <th>4297</th>\n",
              "      <td>Summarize how the Third Wave developed over su...</td>\n",
              "      <td>The Third Wave</td>\n",
              "      <td>Background \\r\\nThe Third Wave experiment took ...</td>\n",
              "      <td>The Third Wave developed because the actions, ...</td>\n",
              "      <td>0.782609</td>\n",
              "      <td>1.424724</td>\n",
              "    </tr>\n",
              "    <tr>\n",
              "      <th>1037</th>\n",
              "      <td>Summarize at least 3 elements of an ideal trag...</td>\n",
              "      <td>On Tragedy</td>\n",
              "      <td>Chapter 13 \\r\\nAs the sequel to what has alrea...</td>\n",
              "      <td>According to Aristotle, the first element of a...</td>\n",
              "      <td>3.013642</td>\n",
              "      <td>1.710313</td>\n",
              "    </tr>\n",
              "    <tr>\n",
              "      <th>5571</th>\n",
              "      <td>Summarize the various ways the factory would u...</td>\n",
              "      <td>Excerpt from The Jungle</td>\n",
              "      <td>With one member trimming beef in a cannery, an...</td>\n",
              "      <td>The Factory would try to cover up or flat out ...</td>\n",
              "      <td>2.141224</td>\n",
              "      <td>1.123777</td>\n",
              "    </tr>\n",
              "    <tr>\n",
              "      <th>6761</th>\n",
              "      <td>Summarize the various ways the factory would u...</td>\n",
              "      <td>Excerpt from The Jungle</td>\n",
              "      <td>With one member trimming beef in a cannery, an...</td>\n",
              "      <td>when the meat was actually spoiled they would ...</td>\n",
              "      <td>-0.093814</td>\n",
              "      <td>0.503833</td>\n",
              "    </tr>\n",
              "    <tr>\n",
              "      <th>6550</th>\n",
              "      <td>Summarize the various ways the factory would u...</td>\n",
              "      <td>Excerpt from The Jungle</td>\n",
              "      <td>With one member trimming beef in a cannery, an...</td>\n",
              "      <td>they would rub it up with soda to take away th...</td>\n",
              "      <td>-1.547163</td>\n",
              "      <td>-1.461245</td>\n",
              "    </tr>\n",
              "  </tbody>\n",
              "</table>\n",
              "<p>7165 rows × 6 columns</p>\n",
              "</div>"
            ],
            "text/plain": [
              "                                        prompt_question  \\\n",
              "5564  Summarize the various ways the factory would u...   \n",
              "6810  Summarize the various ways the factory would u...   \n",
              "5421  Summarize the various ways the factory would u...   \n",
              "2007  Summarize at least 3 elements of an ideal trag...   \n",
              "4218  Summarize how the Third Wave developed over su...   \n",
              "...                                                 ...   \n",
              "4297  Summarize how the Third Wave developed over su...   \n",
              "1037  Summarize at least 3 elements of an ideal trag...   \n",
              "5571  Summarize the various ways the factory would u...   \n",
              "6761  Summarize the various ways the factory would u...   \n",
              "6550  Summarize the various ways the factory would u...   \n",
              "\n",
              "                 prompt_title  \\\n",
              "5564  Excerpt from The Jungle   \n",
              "6810  Excerpt from The Jungle   \n",
              "5421  Excerpt from The Jungle   \n",
              "2007               On Tragedy   \n",
              "4218           The Third Wave   \n",
              "...                       ...   \n",
              "4297           The Third Wave   \n",
              "1037               On Tragedy   \n",
              "5571  Excerpt from The Jungle   \n",
              "6761  Excerpt from The Jungle   \n",
              "6550  Excerpt from The Jungle   \n",
              "\n",
              "                                            prompt_text  \\\n",
              "5564  With one member trimming beef in a cannery, an...   \n",
              "6810  With one member trimming beef in a cannery, an...   \n",
              "5421  With one member trimming beef in a cannery, an...   \n",
              "2007  Chapter 13 \\r\\nAs the sequel to what has alrea...   \n",
              "4218  Background \\r\\nThe Third Wave experiment took ...   \n",
              "...                                                 ...   \n",
              "4297  Background \\r\\nThe Third Wave experiment took ...   \n",
              "1037  Chapter 13 \\r\\nAs the sequel to what has alrea...   \n",
              "5571  With one member trimming beef in a cannery, an...   \n",
              "6761  With one member trimming beef in a cannery, an...   \n",
              "6550  With one member trimming beef in a cannery, an...   \n",
              "\n",
              "                                                   text   content   wording  \n",
              "5564  paragraph two states that the spiled meat was ... -0.548304  0.506755  \n",
              "6810  In line 14 it says that the spoiled meat would... -1.547163 -1.461245  \n",
              "5421  The factory could alter the meat in their chem... -0.670740 -0.540354  \n",
              "2007  A tragedy should include a downful of a man wh... -0.002466 -0.045439  \n",
              "4218  The third wave started because people are very... -0.173157 -0.128520  \n",
              "...                                                 ...       ...       ...  \n",
              "4297  The Third Wave developed because the actions, ...  0.782609  1.424724  \n",
              "1037  According to Aristotle, the first element of a...  3.013642  1.710313  \n",
              "5571  The Factory would try to cover up or flat out ...  2.141224  1.123777  \n",
              "6761  when the meat was actually spoiled they would ... -0.093814  0.503833  \n",
              "6550  they would rub it up with soda to take away th... -1.547163 -1.461245  \n",
              "\n",
              "[7165 rows x 6 columns]"
            ]
          },
          "execution_count": 8,
          "metadata": {},
          "output_type": "execute_result"
        }
      ],
      "source": [
        "from sklearn.utils import shuffle\n",
        "merged_train_ds = shuffle(merged_train_ds)\n",
        "merged_train_ds"
      ]
    },
    {
      "cell_type": "code",
      "execution_count": 9,
      "metadata": {},
      "outputs": [
        {
          "data": {
            "text/html": [
              "<div>\n",
              "<style scoped>\n",
              "    .dataframe tbody tr th:only-of-type {\n",
              "        vertical-align: middle;\n",
              "    }\n",
              "\n",
              "    .dataframe tbody tr th {\n",
              "        vertical-align: top;\n",
              "    }\n",
              "\n",
              "    .dataframe thead th {\n",
              "        text-align: right;\n",
              "    }\n",
              "</style>\n",
              "<table border=\"1\" class=\"dataframe\">\n",
              "  <thead>\n",
              "    <tr style=\"text-align: right;\">\n",
              "      <th></th>\n",
              "      <th>prompt_question</th>\n",
              "      <th>prompt_title</th>\n",
              "      <th>prompt_text</th>\n",
              "      <th>text</th>\n",
              "      <th>content</th>\n",
              "      <th>wording</th>\n",
              "    </tr>\n",
              "  </thead>\n",
              "  <tbody>\n",
              "    <tr>\n",
              "      <th>5564</th>\n",
              "      <td>Summarize the various ways the factory would u...</td>\n",
              "      <td>Excerpt from The Jungle</td>\n",
              "      <td>With one member trimming beef in a cannery, an...</td>\n",
              "      <td>paragraph two states that the spiled meat was ...</td>\n",
              "      <td>-0.548304</td>\n",
              "      <td>0.506755</td>\n",
              "    </tr>\n",
              "    <tr>\n",
              "      <th>6810</th>\n",
              "      <td>Summarize the various ways the factory would u...</td>\n",
              "      <td>Excerpt from The Jungle</td>\n",
              "      <td>With one member trimming beef in a cannery, an...</td>\n",
              "      <td>In line 14 it says that the spoiled meat would...</td>\n",
              "      <td>-1.547163</td>\n",
              "      <td>-1.461245</td>\n",
              "    </tr>\n",
              "    <tr>\n",
              "      <th>5421</th>\n",
              "      <td>Summarize the various ways the factory would u...</td>\n",
              "      <td>Excerpt from The Jungle</td>\n",
              "      <td>With one member trimming beef in a cannery, an...</td>\n",
              "      <td>The factory could alter the meat in their chem...</td>\n",
              "      <td>-0.670740</td>\n",
              "      <td>-0.540354</td>\n",
              "    </tr>\n",
              "    <tr>\n",
              "      <th>2007</th>\n",
              "      <td>Summarize at least 3 elements of an ideal trag...</td>\n",
              "      <td>On Tragedy</td>\n",
              "      <td>Chapter 13 \\r\\nAs the sequel to what has alrea...</td>\n",
              "      <td>A tragedy should include a downful of a man wh...</td>\n",
              "      <td>-0.002466</td>\n",
              "      <td>-0.045439</td>\n",
              "    </tr>\n",
              "    <tr>\n",
              "      <th>4218</th>\n",
              "      <td>Summarize how the Third Wave developed over su...</td>\n",
              "      <td>The Third Wave</td>\n",
              "      <td>Background \\r\\nThe Third Wave experiment took ...</td>\n",
              "      <td>The third wave started because people are very...</td>\n",
              "      <td>-0.173157</td>\n",
              "      <td>-0.128520</td>\n",
              "    </tr>\n",
              "    <tr>\n",
              "      <th>5080</th>\n",
              "      <td>Summarize how the Third Wave developed over su...</td>\n",
              "      <td>The Third Wave</td>\n",
              "      <td>Background \\r\\nThe Third Wave experiment took ...</td>\n",
              "      <td>People wanted to join the movement because it ...</td>\n",
              "      <td>-0.548304</td>\n",
              "      <td>0.506755</td>\n",
              "    </tr>\n",
              "    <tr>\n",
              "      <th>3455</th>\n",
              "      <td>In complete sentences, summarize the structure...</td>\n",
              "      <td>Egyptian Social Structure</td>\n",
              "      <td>Egyptian society was structured like a pyramid...</td>\n",
              "      <td>The egyptian government was controlled ...</td>\n",
              "      <td>2.343624</td>\n",
              "      <td>0.322298</td>\n",
              "    </tr>\n",
              "    <tr>\n",
              "      <th>361</th>\n",
              "      <td>Summarize at least 3 elements of an ideal trag...</td>\n",
              "      <td>On Tragedy</td>\n",
              "      <td>Chapter 13 \\r\\nAs the sequel to what has alrea...</td>\n",
              "      <td>The whole plot will have the downfall of a cha...</td>\n",
              "      <td>-0.974242</td>\n",
              "      <td>-0.751414</td>\n",
              "    </tr>\n",
              "    <tr>\n",
              "      <th>5158</th>\n",
              "      <td>Summarize how the Third Wave developed over su...</td>\n",
              "      <td>The Third Wave</td>\n",
              "      <td>Background \\r\\nThe Third Wave experiment took ...</td>\n",
              "      <td>The third wave was able to develop so quickly ...</td>\n",
              "      <td>2.380461</td>\n",
              "      <td>3.146134</td>\n",
              "    </tr>\n",
              "    <tr>\n",
              "      <th>3602</th>\n",
              "      <td>In complete sentences, summarize the structure...</td>\n",
              "      <td>Egyptian Social Structure</td>\n",
              "      <td>Egyptian society was structured like a pyramid...</td>\n",
              "      <td>Every body in ancient egypt had a job. The pha...</td>\n",
              "      <td>-0.002466</td>\n",
              "      <td>-0.045439</td>\n",
              "    </tr>\n",
              "  </tbody>\n",
              "</table>\n",
              "</div>"
            ],
            "text/plain": [
              "                                        prompt_question  \\\n",
              "5564  Summarize the various ways the factory would u...   \n",
              "6810  Summarize the various ways the factory would u...   \n",
              "5421  Summarize the various ways the factory would u...   \n",
              "2007  Summarize at least 3 elements of an ideal trag...   \n",
              "4218  Summarize how the Third Wave developed over su...   \n",
              "5080  Summarize how the Third Wave developed over su...   \n",
              "3455  In complete sentences, summarize the structure...   \n",
              "361   Summarize at least 3 elements of an ideal trag...   \n",
              "5158  Summarize how the Third Wave developed over su...   \n",
              "3602  In complete sentences, summarize the structure...   \n",
              "\n",
              "                   prompt_title  \\\n",
              "5564    Excerpt from The Jungle   \n",
              "6810    Excerpt from The Jungle   \n",
              "5421    Excerpt from The Jungle   \n",
              "2007                 On Tragedy   \n",
              "4218             The Third Wave   \n",
              "5080             The Third Wave   \n",
              "3455  Egyptian Social Structure   \n",
              "361                  On Tragedy   \n",
              "5158             The Third Wave   \n",
              "3602  Egyptian Social Structure   \n",
              "\n",
              "                                            prompt_text  \\\n",
              "5564  With one member trimming beef in a cannery, an...   \n",
              "6810  With one member trimming beef in a cannery, an...   \n",
              "5421  With one member trimming beef in a cannery, an...   \n",
              "2007  Chapter 13 \\r\\nAs the sequel to what has alrea...   \n",
              "4218  Background \\r\\nThe Third Wave experiment took ...   \n",
              "5080  Background \\r\\nThe Third Wave experiment took ...   \n",
              "3455  Egyptian society was structured like a pyramid...   \n",
              "361   Chapter 13 \\r\\nAs the sequel to what has alrea...   \n",
              "5158  Background \\r\\nThe Third Wave experiment took ...   \n",
              "3602  Egyptian society was structured like a pyramid...   \n",
              "\n",
              "                                                   text   content   wording  \n",
              "5564  paragraph two states that the spiled meat was ... -0.548304  0.506755  \n",
              "6810  In line 14 it says that the spoiled meat would... -1.547163 -1.461245  \n",
              "5421  The factory could alter the meat in their chem... -0.670740 -0.540354  \n",
              "2007  A tragedy should include a downful of a man wh... -0.002466 -0.045439  \n",
              "4218  The third wave started because people are very... -0.173157 -0.128520  \n",
              "5080  People wanted to join the movement because it ... -0.548304  0.506755  \n",
              "3455         The egyptian government was controlled ...  2.343624  0.322298  \n",
              "361   The whole plot will have the downfall of a cha... -0.974242 -0.751414  \n",
              "5158  The third wave was able to develop so quickly ...  2.380461  3.146134  \n",
              "3602  Every body in ancient egypt had a job. The pha... -0.002466 -0.045439  "
            ]
          },
          "execution_count": 9,
          "metadata": {},
          "output_type": "execute_result"
        }
      ],
      "source": [
        "merged_train_ds.head(10)"
      ]
    },
    {
      "cell_type": "code",
      "execution_count": 14,
      "metadata": {
        "id": "UTKKp32Y-T23"
      },
      "outputs": [
        {
          "name": "stderr",
          "output_type": "stream",
          "text": [
            "C:\\Users\\Kavindya\\AppData\\Local\\Temp\\ipykernel_2340\\2418940779.py:27: SettingWithCopyWarning: \n",
            "A value is trying to be set on a copy of a slice from a DataFrame.\n",
            "Try using .loc[row_indexer,col_indexer] = value instead\n",
            "\n",
            "See the caveats in the documentation: https://pandas.pydata.org/pandas-docs/stable/user_guide/indexing.html#returning-a-view-versus-a-copy\n",
            "  input['generated_summary'] = generated_summaries\n",
            "C:\\Users\\Kavindya\\AppData\\Local\\Temp\\ipykernel_2340\\2418940779.py:27: SettingWithCopyWarning: \n",
            "A value is trying to be set on a copy of a slice from a DataFrame.\n",
            "Try using .loc[row_indexer,col_indexer] = value instead\n",
            "\n",
            "See the caveats in the documentation: https://pandas.pydata.org/pandas-docs/stable/user_guide/indexing.html#returning-a-view-versus-a-copy\n",
            "  input['generated_summary'] = generated_summaries\n",
            "C:\\Users\\Kavindya\\AppData\\Local\\Temp\\ipykernel_2340\\2418940779.py:27: SettingWithCopyWarning: \n",
            "A value is trying to be set on a copy of a slice from a DataFrame.\n",
            "Try using .loc[row_indexer,col_indexer] = value instead\n",
            "\n",
            "See the caveats in the documentation: https://pandas.pydata.org/pandas-docs/stable/user_guide/indexing.html#returning-a-view-versus-a-copy\n",
            "  input['generated_summary'] = generated_summaries\n"
          ]
        }
      ],
      "source": [
        "batch_size = 150\n",
        "batch_ds_list = []\n",
        "for i in range(0, len(merged_train_ds.head(3)), batch_size):\n",
        "    batch = merged_train_ds[i:i+batch_size]\n",
        "    train_ds_with_GenSummaries = generate_summary(batch)\n",
        "    result = calculate_features(train_ds_with_GenSummaries)\n",
        "    batch_ds_list.append(result)\n",
        "\n",
        "# Concatenate the returned datasets\n",
        "# final_dataset = pd.concat(batch_ds_list, ignore_index=True)"
      ]
    },
    {
      "cell_type": "code",
      "execution_count": 15,
      "metadata": {},
      "outputs": [],
      "source": [
        "# Concatenate the returned datasets\n",
        "final_dataset = pd.concat(batch_ds_list, ignore_index=True)"
      ]
    },
    {
      "cell_type": "code",
      "execution_count": 17,
      "metadata": {},
      "outputs": [
        {
          "data": {
            "text/html": [
              "<div>\n",
              "<style scoped>\n",
              "    .dataframe tbody tr th:only-of-type {\n",
              "        vertical-align: middle;\n",
              "    }\n",
              "\n",
              "    .dataframe tbody tr th {\n",
              "        vertical-align: top;\n",
              "    }\n",
              "\n",
              "    .dataframe thead th {\n",
              "        text-align: right;\n",
              "    }\n",
              "</style>\n",
              "<table border=\"1\" class=\"dataframe\">\n",
              "  <thead>\n",
              "    <tr style=\"text-align: right;\">\n",
              "      <th></th>\n",
              "      <th>prompt_question</th>\n",
              "      <th>prompt_title</th>\n",
              "      <th>prompt_text</th>\n",
              "      <th>text</th>\n",
              "      <th>content</th>\n",
              "      <th>wording</th>\n",
              "      <th>generated_summary</th>\n",
              "      <th>rouge_1_score</th>\n",
              "      <th>rouge_2_score</th>\n",
              "      <th>sentence_length</th>\n",
              "      <th>readability_score</th>\n",
              "      <th>content_sim</th>\n",
              "    </tr>\n",
              "  </thead>\n",
              "  <tbody>\n",
              "    <tr>\n",
              "      <th>0</th>\n",
              "      <td>Summarize the various ways the factory would u...</td>\n",
              "      <td>Excerpt from The Jungle</td>\n",
              "      <td>With one member trimming beef in a cannery, an...</td>\n",
              "      <td>paragraph two states that the spiled meat was ...</td>\n",
              "      <td>-0.548304</td>\n",
              "      <td>0.506755</td>\n",
              "      <td>With one member trimming beef in a cannery an...</td>\n",
              "      <td>0.133333</td>\n",
              "      <td>0.021739</td>\n",
              "      <td>20</td>\n",
              "      <td>-0.15</td>\n",
              "      <td>0.31611</td>\n",
              "    </tr>\n",
              "  </tbody>\n",
              "</table>\n",
              "</div>"
            ],
            "text/plain": [
              "                                     prompt_question             prompt_title  \\\n",
              "0  Summarize the various ways the factory would u...  Excerpt from The Jungle   \n",
              "\n",
              "                                         prompt_text  \\\n",
              "0  With one member trimming beef in a cannery, an...   \n",
              "\n",
              "                                                text   content   wording  \\\n",
              "0  paragraph two states that the spiled meat was ... -0.548304  0.506755   \n",
              "\n",
              "                                   generated_summary  rouge_1_score  \\\n",
              "0   With one member trimming beef in a cannery an...       0.133333   \n",
              "\n",
              "   rouge_2_score  sentence_length  readability_score  content_sim  \n",
              "0       0.021739               20              -0.15      0.31611  "
            ]
          },
          "execution_count": 17,
          "metadata": {},
          "output_type": "execute_result"
        }
      ],
      "source": [
        "batch_ds_list[0]"
      ]
    },
    {
      "cell_type": "code",
      "execution_count": 18,
      "metadata": {},
      "outputs": [
        {
          "data": {
            "text/html": [
              "<div>\n",
              "<style scoped>\n",
              "    .dataframe tbody tr th:only-of-type {\n",
              "        vertical-align: middle;\n",
              "    }\n",
              "\n",
              "    .dataframe tbody tr th {\n",
              "        vertical-align: top;\n",
              "    }\n",
              "\n",
              "    .dataframe thead th {\n",
              "        text-align: right;\n",
              "    }\n",
              "</style>\n",
              "<table border=\"1\" class=\"dataframe\">\n",
              "  <thead>\n",
              "    <tr style=\"text-align: right;\">\n",
              "      <th></th>\n",
              "      <th>prompt_question</th>\n",
              "      <th>prompt_title</th>\n",
              "      <th>prompt_text</th>\n",
              "      <th>text</th>\n",
              "      <th>content</th>\n",
              "      <th>wording</th>\n",
              "      <th>generated_summary</th>\n",
              "      <th>rouge_1_score</th>\n",
              "      <th>rouge_2_score</th>\n",
              "      <th>sentence_length</th>\n",
              "      <th>readability_score</th>\n",
              "      <th>content_sim</th>\n",
              "    </tr>\n",
              "  </thead>\n",
              "  <tbody>\n",
              "    <tr>\n",
              "      <th>0</th>\n",
              "      <td>Summarize the various ways the factory would u...</td>\n",
              "      <td>Excerpt from The Jungle</td>\n",
              "      <td>With one member trimming beef in a cannery, an...</td>\n",
              "      <td>paragraph two states that the spiled meat was ...</td>\n",
              "      <td>-0.548304</td>\n",
              "      <td>0.506755</td>\n",
              "      <td>With one member trimming beef in a cannery an...</td>\n",
              "      <td>0.133333</td>\n",
              "      <td>0.021739</td>\n",
              "      <td>20</td>\n",
              "      <td>-0.150</td>\n",
              "      <td>0.316110</td>\n",
              "    </tr>\n",
              "    <tr>\n",
              "      <th>1</th>\n",
              "      <td>Summarize the various ways the factory would u...</td>\n",
              "      <td>Excerpt from The Jungle</td>\n",
              "      <td>With one member trimming beef in a cannery, an...</td>\n",
              "      <td>In line 14 it says that the spoiled meat would...</td>\n",
              "      <td>-1.547163</td>\n",
              "      <td>-1.461245</td>\n",
              "      <td>With one member trimming beef in a cannery an...</td>\n",
              "      <td>0.061538</td>\n",
              "      <td>0.000000</td>\n",
              "      <td>26</td>\n",
              "      <td>0.000</td>\n",
              "      <td>0.224873</td>\n",
              "    </tr>\n",
              "    <tr>\n",
              "      <th>2</th>\n",
              "      <td>Summarize the various ways the factory would u...</td>\n",
              "      <td>Excerpt from The Jungle</td>\n",
              "      <td>With one member trimming beef in a cannery, an...</td>\n",
              "      <td>The factory could alter the meat in their chem...</td>\n",
              "      <td>-0.670740</td>\n",
              "      <td>-0.540354</td>\n",
              "      <td>With one member trimming beef in a cannery an...</td>\n",
              "      <td>0.179104</td>\n",
              "      <td>0.047059</td>\n",
              "      <td>39</td>\n",
              "      <td>-0.125</td>\n",
              "      <td>0.431780</td>\n",
              "    </tr>\n",
              "  </tbody>\n",
              "</table>\n",
              "</div>"
            ],
            "text/plain": [
              "                                     prompt_question             prompt_title  \\\n",
              "0  Summarize the various ways the factory would u...  Excerpt from The Jungle   \n",
              "1  Summarize the various ways the factory would u...  Excerpt from The Jungle   \n",
              "2  Summarize the various ways the factory would u...  Excerpt from The Jungle   \n",
              "\n",
              "                                         prompt_text  \\\n",
              "0  With one member trimming beef in a cannery, an...   \n",
              "1  With one member trimming beef in a cannery, an...   \n",
              "2  With one member trimming beef in a cannery, an...   \n",
              "\n",
              "                                                text   content   wording  \\\n",
              "0  paragraph two states that the spiled meat was ... -0.548304  0.506755   \n",
              "1  In line 14 it says that the spoiled meat would... -1.547163 -1.461245   \n",
              "2  The factory could alter the meat in their chem... -0.670740 -0.540354   \n",
              "\n",
              "                                   generated_summary  rouge_1_score  \\\n",
              "0   With one member trimming beef in a cannery an...       0.133333   \n",
              "1   With one member trimming beef in a cannery an...       0.061538   \n",
              "2   With one member trimming beef in a cannery an...       0.179104   \n",
              "\n",
              "   rouge_2_score  sentence_length  readability_score  content_sim  \n",
              "0       0.021739               20             -0.150     0.316110  \n",
              "1       0.000000               26              0.000     0.224873  \n",
              "2       0.047059               39             -0.125     0.431780  "
            ]
          },
          "execution_count": 18,
          "metadata": {},
          "output_type": "execute_result"
        }
      ],
      "source": [
        "final_dataset"
      ]
    },
    {
      "cell_type": "code",
      "execution_count": 94,
      "metadata": {},
      "outputs": [],
      "source": [
        "final_dataset.to_csv('D:/Project/ScriboSense/artifacts/feature_scores_from_6950.csv',index=False)"
      ]
    },
    {
      "cell_type": "code",
      "execution_count": 96,
      "metadata": {},
      "outputs": [],
      "source": [
        "# score_tabel=pd.read_csv('D:/Project/ScriboSense/artifacts/feature_scores_to_6950.csv')\n",
        "# score_tabel"
      ]
    },
    {
      "cell_type": "code",
      "execution_count": null,
      "metadata": {
        "id": "864Obe95tG_y"
      },
      "outputs": [],
      "source": [
        "# train_ds_with_GenSummaries = generate_summary(merged_train_ds)\n",
        "# feature_ds = calculate_features(train_ds_with_GenSummaries)\n",
        "# content_score = get_content_score(feature_ds)"
      ]
    },
    {
      "cell_type": "code",
      "execution_count": 97,
      "metadata": {
        "id": "vWbYV5NVNzju"
      },
      "outputs": [
        {
          "name": "stdout",
          "output_type": "stream",
          "text": [
            "Mean Squared Error: 0.34\n"
          ]
        }
      ],
      "source": [
        "# train the dataset\n",
        "model_dataset = final_dataset.drop(columns=['text','generated_summary','prompt_text'])\n",
        "\n",
        "from sklearn.model_selection import train_test_split\n",
        "from sklearn.linear_model import LinearRegression\n",
        "from sklearn.metrics import mean_squared_error\n",
        "\n",
        "features = model_dataset[['rouge_1_score', 'rouge_2_score', 'sentence_length','readability_score','content_sim']]\n",
        "target = model_dataset['content']\n",
        "\n",
        "# Split the data into training and testing sets\n",
        "X_train, X_test, y_train, y_test = train_test_split(features, target, test_size=0.2, random_state=42)\n",
        "\n",
        "# Initialize the Linear Regression model\n",
        "model = LinearRegression()\n",
        "\n",
        "# Fit the model to the training data\n",
        "model.fit(X_train, y_train)\n",
        "\n",
        "# Predict on the testing data\n",
        "y_pred = model.predict(X_test)\n",
        "\n",
        "# Calculate the Mean Squared Error\n",
        "mse = mean_squared_error(y_test, y_pred)\n",
        "print(f\"Mean Squared Error: {mse:.2f}\")"
      ]
    },
    {
      "cell_type": "code",
      "execution_count": 104,
      "metadata": {
        "id": "Ye9vvcEfv1Op"
      },
      "outputs": [],
      "source": [
        "# save the model\n",
        "import pickle\n",
        "\n",
        "with open('D:\\Project/ScriboSense/static/model/v2.pickle', 'wb') as file:\n",
        "    pickle.dump(model, file)"
      ]
    },
    {
      "cell_type": "markdown",
      "metadata": {
        "id": "J_sMwBUptG_x"
      },
      "source": [
        "## Hyper parameter tuning"
      ]
    },
    {
      "cell_type": "code",
      "execution_count": null,
      "metadata": {
        "id": "qV1aM2xwtG_x"
      },
      "outputs": [],
      "source": [
        "# # get the summary-content dataset\n",
        "# referenceSummary_content = merged_train_ds.drop(columns=['prompt_question','prompt_text','wording'])\n",
        "# promptText_content = merged_train_ds.drop(columns=['prompt_question','text','wording'])"
      ]
    },
    {
      "cell_type": "code",
      "execution_count": null,
      "metadata": {
        "id": "xPnrryIGtG_y",
        "outputId": "debcd022-8655-42ef-961a-ff1f009f6559"
      },
      "outputs": [
        {
          "name": "stderr",
          "output_type": "stream",
          "text": [
            "d:\\Pavan\\Summary-Evaluator\\textS\\Lib\\site-packages\\tqdm\\auto.py:21: TqdmWarning: IProgress not found. Please update jupyter and ipywidgets. See https://ipywidgets.readthedocs.io/en/stable/user_install.html\n",
            "  from .autonotebook import tqdm as notebook_tqdm\n"
          ]
        }
      ],
      "source": [
        "# # tokenizing\n",
        "# from transformers import AutoTokenizer\n",
        "# tokenizer = AutoTokenizer.from_pretrained('bert-base-cased')\n",
        "# def tokenize(dataset):\n",
        "#     return tokenizer(dataset['text'], padding=\"max_length\", truncation=True)\n",
        "# def prompt_tokenize(dataset):\n",
        "#     return tokenizer(dataset['prompt_text'], padding=\"max_length\", truncation=True)\n",
        "\n",
        "\n",
        "# merged_train_ds['tokenized_text'] = referenceSummary_content.apply(tokenize,axis=1)\n",
        "# merged_train_ds['tokenized_prompt_text'] = promptText_content.apply(prompt_tokenize,axis=1)"
      ]
    }
  ],
  "metadata": {
    "accelerator": "GPU",
    "colab": {
      "gpuType": "T4",
      "provenance": []
    },
    "kernelspec": {
      "display_name": "Python 3",
      "name": "python3"
    },
    "language_info": {
      "codemirror_mode": {
        "name": "ipython",
        "version": 3
      },
      "file_extension": ".py",
      "mimetype": "text/x-python",
      "name": "python",
      "nbconvert_exporter": "python",
      "pygments_lexer": "ipython3",
      "version": "3.11.4"
    }
  },
  "nbformat": 4,
  "nbformat_minor": 0
}
