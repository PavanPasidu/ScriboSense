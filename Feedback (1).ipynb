{
  "nbformat": 4,
  "nbformat_minor": 0,
  "metadata": {
    "colab": {
      "provenance": []
    },
    "kernelspec": {
      "name": "python3",
      "display_name": "Python 3"
    },
    "language_info": {
      "name": "python"
    }
  },
  "cells": [
    {
      "cell_type": "code",
      "execution_count": null,
      "metadata": {
        "colab": {
          "base_uri": "https://localhost:8080/"
        },
        "id": "nWf-RBYXQd79",
        "outputId": "0ed27c8f-8c96-47ec-b4ba-b59931aa4ae8"
      },
      "outputs": [
        {
          "output_type": "stream",
          "name": "stdout",
          "text": [
            "Collecting replicate\n",
            "  Downloading replicate-0.15.4-py3-none-any.whl (25 kB)\n",
            "Requirement already satisfied: packaging in /usr/local/lib/python3.10/dist-packages (from replicate) (23.2)\n",
            "Requirement already satisfied: pydantic>1 in /usr/local/lib/python3.10/dist-packages (from replicate) (1.10.13)\n",
            "Collecting httpx<1,>=0.21.0 (from replicate)\n",
            "  Downloading httpx-0.25.0-py3-none-any.whl (75 kB)\n",
            "\u001b[2K     \u001b[90m━━━━━━━━━━━━━━━━━━━━━━━━━━━━━━━━━━━━━━━━\u001b[0m \u001b[32m75.7/75.7 kB\u001b[0m \u001b[31m3.0 MB/s\u001b[0m eta \u001b[36m0:00:00\u001b[0m\n",
            "\u001b[?25hRequirement already satisfied: certifi in /usr/local/lib/python3.10/dist-packages (from httpx<1,>=0.21.0->replicate) (2023.7.22)\n",
            "Collecting httpcore<0.19.0,>=0.18.0 (from httpx<1,>=0.21.0->replicate)\n",
            "  Downloading httpcore-0.18.0-py3-none-any.whl (76 kB)\n",
            "\u001b[2K     \u001b[90m━━━━━━━━━━━━━━━━━━━━━━━━━━━━━━━━━━━━━━━━\u001b[0m \u001b[32m76.0/76.0 kB\u001b[0m \u001b[31m9.7 MB/s\u001b[0m eta \u001b[36m0:00:00\u001b[0m\n",
            "\u001b[?25hRequirement already satisfied: idna in /usr/local/lib/python3.10/dist-packages (from httpx<1,>=0.21.0->replicate) (3.4)\n",
            "Requirement already satisfied: sniffio in /usr/local/lib/python3.10/dist-packages (from httpx<1,>=0.21.0->replicate) (1.3.0)\n",
            "Requirement already satisfied: typing-extensions>=4.2.0 in /usr/local/lib/python3.10/dist-packages (from pydantic>1->replicate) (4.5.0)\n",
            "Requirement already satisfied: anyio<5.0,>=3.0 in /usr/local/lib/python3.10/dist-packages (from httpcore<0.19.0,>=0.18.0->httpx<1,>=0.21.0->replicate) (3.7.1)\n",
            "Collecting h11<0.15,>=0.13 (from httpcore<0.19.0,>=0.18.0->httpx<1,>=0.21.0->replicate)\n",
            "  Downloading h11-0.14.0-py3-none-any.whl (58 kB)\n",
            "\u001b[2K     \u001b[90m━━━━━━━━━━━━━━━━━━━━━━━━━━━━━━━━━━━━━━━━\u001b[0m \u001b[32m58.3/58.3 kB\u001b[0m \u001b[31m7.0 MB/s\u001b[0m eta \u001b[36m0:00:00\u001b[0m\n",
            "\u001b[?25hRequirement already satisfied: exceptiongroup in /usr/local/lib/python3.10/dist-packages (from anyio<5.0,>=3.0->httpcore<0.19.0,>=0.18.0->httpx<1,>=0.21.0->replicate) (1.1.3)\n",
            "Installing collected packages: h11, httpcore, httpx, replicate\n",
            "Successfully installed h11-0.14.0 httpcore-0.18.0 httpx-0.25.0 replicate-0.15.4\n"
          ]
        }
      ],
      "source": [
        "! pip install replicate\n"
      ]
    },
    {
      "cell_type": "code",
      "source": [
        "import os\n",
        "\n",
        "os.environ[\"REPLICATE_API_TOKEN\"] = \"r8_KjNJz1w5dROUo3FRE1s6FJakHD3bNJS2kZ9nu\""
      ],
      "metadata": {
        "id": "wVGDL3ERQmj0"
      },
      "execution_count": null,
      "outputs": []
    },
    {
      "cell_type": "markdown",
      "source": [
        "## GRAMMAR ERRORS"
      ],
      "metadata": {
        "id": "pud5hkKlWUH_"
      }
    },
    {
      "cell_type": "code",
      "source": [
        "import replicate\n",
        "\n",
        "pre_prompt1 = \"List the grammatical errors in the following paragraph:\"\n",
        "\n",
        "prompt_input = \"I aint never seen nobodys dog bark so loud. Their all making so much noise that it makes my head hurt. She don't likes it neither. He goes to the store everydays, but he dont buy nothing.\"\n",
        "\n",
        "# Generate LLM response\n",
        "output1 = replicate.run('a16z-infra/llama13b-v2-chat:df7690f1994d94e96ad9d568eac121aecf50684a0b0963b25a41cc40061269e5',\n",
        "                        input={\"prompt\": f\"{pre_prompt1}\\n{prompt_input}\\nAssistant:\",\n",
        "                               \"temperature\": 0.1, \"top_p\": 0.8, \"max_length\": 1000, \"repetition_penalty\": 1})\n",
        "\n",
        "full_response = \"\"\n",
        "\n",
        "for item in output1:\n",
        "  full_response += item\n",
        "\n",
        "print(full_response)"
      ],
      "metadata": {
        "colab": {
          "base_uri": "https://localhost:8080/"
        },
        "id": "BHaGA-9XQxCd",
        "outputId": "e02906c2-07fe-4184-d0bb-f4716de414ec"
      },
      "execution_count": null,
      "outputs": [
        {
          "output_type": "stream",
          "name": "stdout",
          "text": [
            "There are several grammatical errors in the paragraph you provided. Here they are, listed in order:\n",
            "\n",
            "1. \"I aint never\" should be \"I have never\" or \"I never have.\"\n",
            "2. \"nobodys\" should be \"nobody's.\"\n",
            "3. \"their\" should be \"there.\"\n",
            "4. \"all making\" should be \"all making.\"\n",
            "5. \"it makes my head hurt\" should be \"it makes my head ache.\"\n",
            "6. \"She don't likes\" should be \"She doesn't like.\"\n",
            "7. \"He goes to the store everydays\" should be \"He goes to the store every day.\"\n",
            "8. \"but he dont buy nothing\" should be \"but he doesn't buy anything.\"\n",
            "\n",
            "I hope this helps! Let me know if you have any other questions.\n"
          ]
        }
      ]
    },
    {
      "cell_type": "code",
      "source": [
        "import re\n",
        "# Define a regular expression pattern to match lines containing errors\n",
        "pattern = r'\"([^\"]+)\" should be \"([^\"]+)\"'\n",
        "\n",
        "# Use re.findall to extract the error lines\n",
        "error_lines = re.findall(pattern, full_response)\n",
        "\n",
        "# Create an array to store the extracted errors\n",
        "errors = []\n",
        "for error in error_lines:\n",
        "    errors.append(f'\"{error[0]}\" should be \"{error[1]}\"')\n",
        "\n",
        "print(f\"There are {len(errors)} grammatical errors in your summary.\")\n",
        "# Print the list of errors with line numbers\n",
        "for i, error in enumerate(errors):\n",
        "    print(f\"{i + 1}. {error}\")"
      ],
      "metadata": {
        "colab": {
          "base_uri": "https://localhost:8080/"
        },
        "id": "o9-fEC2bQ4Nc",
        "outputId": "0c4c4f26-8193-4c6c-edaf-e62779e7c887"
      },
      "execution_count": null,
      "outputs": [
        {
          "output_type": "stream",
          "name": "stdout",
          "text": [
            "There are 8 grammatical errors in your summary.\n",
            "1. \"I aint never\" should be \"I have never\"\n",
            "2. \"nobodys\" should be \"nobody's.\"\n",
            "3. \"their\" should be \"there.\"\n",
            "4. \"all making\" should be \"all making.\"\n",
            "5. \"it makes my head hurt\" should be \"it makes my head ache.\"\n",
            "6. \"She don't likes\" should be \"She doesn't like.\"\n",
            "7. \"He goes to the store everydays\" should be \"He goes to the store every day.\"\n",
            "8. \"but he dont buy nothing\" should be \"but he doesn't buy anything.\"\n"
          ]
        }
      ]
    },
    {
      "cell_type": "code",
      "source": [
        "import replicate\n",
        "\n",
        "pre_prompt1 = \"List the grammatical errors in the following paragraph:\"\n",
        "\n",
        "prompt_input = \"Me and him is going to the store to buys some apples. She don't likes apples, but we doesn't care. Them apples are so good, I seen it in a movie. She ain't never ate an apple in her life, ain't that strange? We goes to the store all the times, and it's always fun!\"\n",
        "# Generate LLM response\n",
        "output1 = replicate.run('a16z-infra/llama13b-v2-chat:df7690f1994d94e96ad9d568eac121aecf50684a0b0963b25a41cc40061269e5',\n",
        "                        input={\"prompt\": f\"{pre_prompt1}\\n{prompt_input}\\nAssistant:\",\n",
        "                               \"temperature\": 0.1, \"top_p\": 0.8, \"max_length\": 1000, \"repetition_penalty\": 1})\n",
        "\n",
        "full_response = \"\"\n",
        "\n",
        "for item in output1:\n",
        "  full_response += item"
      ],
      "metadata": {
        "id": "nYfVh8EUam4e"
      },
      "execution_count": null,
      "outputs": []
    },
    {
      "cell_type": "code",
      "source": [
        "import re\n",
        "# Define a regular expression pattern to match lines containing errors\n",
        "pattern = r'\"([^\"]+)\" should be \"([^\"]+)\"'\n",
        "\n",
        "# Use re.findall to extract the error lines\n",
        "error_lines = re.findall(pattern, full_response)\n",
        "\n",
        "# Create an array to store the extracted errors\n",
        "errors = []\n",
        "for error in error_lines:\n",
        "    errors.append(f'\"{error[0]}\" should be \"{error[1]}\"')\n",
        "\n",
        "print(f\"There are {len(errors)} grammatical errors in your summary.\")\n",
        "# Print the list of errors with line numbers\n",
        "for i, error in enumerate(errors):\n",
        "    print(f\"{i + 1}. {error}\")"
      ],
      "metadata": {
        "colab": {
          "base_uri": "https://localhost:8080/"
        },
        "id": "hI2OgtZSbBfA",
        "outputId": "9c789f8f-418b-4ad6-8641-c53d0480a405"
      },
      "execution_count": null,
      "outputs": [
        {
          "output_type": "stream",
          "name": "stdout",
          "text": [
            "There are 10 grammatical errors in your summary.\n",
            "1. \"Me and him\" should be \"He and I\"\n",
            "2. \"going to\" should be \"going to the store\"\n",
            "3. \"buys\" should be \"buy\"\n",
            "4. \"She don't\" should be \"She doesn't\"\n",
            "5. \"we doesn't\" should be \"we don't\"\n",
            "6. \"Them apples\" should be \"Those apples\"\n",
            "7. \"I seen\" should be \"I saw\"\n",
            "8. \"She ain't\" should be \"She is not\"\n",
            "9. \"We goes\" should be \"We go\"\n",
            "10. \"all the times\" should be \"all the time\"\n"
          ]
        }
      ]
    },
    {
      "cell_type": "markdown",
      "source": [
        "## IDEAL SUMMARIES"
      ],
      "metadata": {
        "id": "ZacNotUGXPea"
      }
    },
    {
      "cell_type": "code",
      "source": [
        "import replicate\n",
        "\n",
        "summary_prompt = \"Summarize Aristotle's criteria for an ideal tragedy based on the following text:\"\n",
        "\n",
        "text_to_summarize = '''\n",
        "Chapter 13\n",
        "As the sequel to what has already been said, we must proceed to consider what the poet should aim at, and what he should avoid, in constructing his plots; and by what means the specific effect of Tragedy will be produced.\n",
        "A perfect tragedy should, as we have seen, be arranged not on the simple but on the complex plan. It should, moreover, imitate actions which excite pity and fear, this being the distinctive mark of tragic imitation. It follows plainly, in the first place, that the change of fortune presented must not be the spectacle of a virtuous man brought from prosperity to adversity: for this moves neither pity nor fear; it merely shocks us. Nor, again, that of a bad man passing from adversity to prosperity: for nothing can be more alien to the spirit of Tragedy; it possesses no single tragic quality; it neither satisfies the moral sense nor calls forth pity or fear. Nor, again, should the downfall of the utter villain be exhibited. A plot of this kind would, doubtless, satisfy the moral sense, but it would inspire neither pity nor fear; for pity is aroused by unmerited misfortune, fear by the misfortune of a man like ourselves. Such an event, therefore, will be neither pitiful nor terrible. There remains, then, the character between these two extremes â€” that of a man who is not eminently good and just, yet whose misfortune is brought about not by vice or depravity, but by some error of judgement or frailty. He must be one who is highly renowned and prosperous â€” a personage like Oedipus, Thyestes, or other illustrious men of such families.\n",
        "A well-constructed plot should, therefore, be single in its issue, rather than double as some maintain. The change of fortune should be not from bad to good, but, reversely, from good to bad. It should come about as the result not of vice, but of some great error or frailty, in a character either such as we have described, or better rather than worse. The practice of the stage bears out our view. At first the poets recounted any legend that came in their way. Now, the best tragedies are founded on the story of a few houses â€” on the fortunes of Alcmaeon, Oedipus, Orestes, Meleager, Thyestes, Telephus, and those others who have done or suffered something terrible. A tragedy, then, to be perfect according to the rules of art, should be of this construction. Hence they are in error who censure Euripides just because he follows this principle in his plays, many of which end unhappily. It is, as we have said, the right ending. The best proof is that on the stage and in dramatic competition, such plays, if well worked out, are the most tragic in effect; and Euripides, faulty though he may be in the general management of his subject, yet is felt to be the most tragic of the poets.\n",
        "In the second rank comes the kind of tragedy which some place first. Like the Odyssey, it has a double thread of plot, and also an opposite catastrophe for the good and for the bad. It is accounted the best because of the weakness of the spectators; for the poet is guided in what he writes by the wishes of his audience. The pleasure, however, thence derived is not the true tragic pleasure. It is proper rather to Comedy, where those who, in the piece, are the deadliest enemies â€” like Orestes and Aegisthus â€” quit the stage as friends at the close, and no one slays or is slain.\n",
        "'''\n",
        "# Generate LLM response\n",
        "output1 = replicate.run('a16z-infra/llama13b-v2-chat:df7690f1994d94e96ad9d568eac121aecf50684a0b0963b25a41cc40061269e5',\n",
        "                        input={\"prompt\": f\"{summary_prompt}\\n{text_to_summarize}\\n\",\n",
        "                               \"temperature\": 0.1, \"top_p\": 0.8, \"max_length\": 25000, \"repetition_penalty\": 1})\n",
        "\n",
        "full_response = \"\"\n",
        "\n",
        "for item in output1:\n",
        "  full_response += item\n",
        "\n",
        "print(full_response)"
      ],
      "metadata": {
        "colab": {
          "base_uri": "https://localhost:8080/"
        },
        "id": "w0NBfXhVQ7pn",
        "outputId": "12b4cb34-6a87-423b-f16c-18dc5965a69f"
      },
      "execution_count": null,
      "outputs": [
        {
          "output_type": "stream",
          "name": "stdout",
          "text": [
            "What are Aristotle's criteria for an ideal tragedy?\n",
            "Based on the text, Aristotle's criteria for an ideal tragedy are:\n",
            "1. The change of fortune should be from good to bad, rather than from bad to good.\n",
            "2. The downfall of the protagonist should be caused by some error or frailty, rather than by vice or depravity.\n",
            "3. The protagonist should be a character between the extremes of virtue and vice, with a mix of both.\n",
            "4. The plot should be single in its issue, rather than double.\n",
            "5. The tragedy should imitate actions that excite pity and fear.\n",
            "6. The best tragedies are founded on the story of a few houses, such as the fortunes of Oedipus, Thyestes, or Orestes.\n",
            "7. The ending of the tragedy should be the right one, which is not necessarily a happy ending.\n",
            "8. The tragedy should be well-worked out and have a strong emotional impact on the audience.\n"
          ]
        }
      ]
    },
    {
      "cell_type": "code",
      "source": [
        "import replicate\n",
        "\n",
        "summary_prompt = \"In complete sentences, summarize the structure of the ancient Egyptian system of government. How were different social classes involved in this government? Cite evidence from the text.\"\n",
        "\n",
        "text_to_summarize = '''\n",
        "Egyptian society was structured like a pyramid. At the top were the gods, such as Ra, Osiris, and Isis. Egyptians believed that the gods controlled the universe. Therefore, it was important to keep them happy. They could make the Nile overflow, cause famine, or even bring death.\n",
        "The Egyptians also elevated some human beings to gods. Their leaders, called pharaohs, were believed to be gods in human form. They had absolute power over their subjects. After pharaohs died, huge stone pyramids were built as their tombs. Pharaohs were buried in chambers within the pyramids.\n",
        "Because the people of Egypt believed that their pharaohs were gods, they entrusted their rulers with many responsibilities. Protection was at the top of the list. The pharaoh directed the army in case of a foreign threat or an internal conflict. All laws were enacted at the discretion of the pharaoh. Each farmer paid taxes in the form of grains, which were stored in the pharaohâ€™s warehouses. This grain was used to feed the people in the event of a famine.\n",
        "The Chain of Command\n",
        "No single person could manage all these duties without assistance. The pharaoh appointed a chief minister called a vizier as a supervisor. The vizier ensured that taxes were collected.\n",
        "Working with the vizier were scribes who kept government records. These high-level employees had mastered a rare skill in ancient Egypt â€” they could read and write.\n",
        "Noble Aims\n",
        "Right below the pharaoh in status were powerful nobles and priests. Only nobles could hold government posts; in these positions they profited from tributes paid to the pharaoh. Priests were responsible for pleasing the gods.\n",
        "Nobles enjoyed great status and also grew wealthy from donations to the gods. All Egyptiansâ€”from pharaohs to farmersâ€”gave gifts to the gods.\n",
        "Soldier On\n",
        "Soldiers fought in wars or quelled domestic uprisings. During long periods of peace, soldiers also supervised the peasants, farmers, and slaves who were involved in building such structures as pyramids and palaces.\n",
        "Skilled workers such as physicians and craftsmen/women made up the middle class. Craftsmen made and sold jewelry, pottery, papyrus products, tools, and other useful things.\n",
        "Naturally, there were people needed to buy goods from artisans and traders. These were the merchants and storekeepers who sold these goods to the public.\n",
        "The Bottom of the Heap\n",
        "At the bottom of the social structure were slaves and farmers. Slavery became the fate of those captured as prisoners of war. In addition to being forced to work on building projects, slaves toiled at the discretion of the pharaoh or nobles.\n",
        "Farmers tended the fields, raised animals, kept canals and reservoirs in good order, worked in the stone quarries, and built the royal monuments. Farmers paid taxes that could amount to as much as 60% of their yearly harvestâ€”thatâ€™s a lot of hay!\n",
        "Social mobility was not impossible. A small number of peasants and farmers moved up the economic ladder. Families saved money to send their sons to village schools to learn trades. These schools were run by priests or by artisans. Boys who learned to read and write could become scribes, then go on to gain employment in the government. It was possible for a boy born on a farm to work his way up into the higher ranks of the government. Bureaucracy proved lucrative.\n",
        "'''\n",
        "# Generate LLM response\n",
        "output1 = replicate.run('a16z-infra/llama13b-v2-chat:df7690f1994d94e96ad9d568eac121aecf50684a0b0963b25a41cc40061269e5',\n",
        "                        input={\"prompt\": f\"{summary_prompt}\\n{text_to_summarize}\\n\",\n",
        "                               \"temperature\": 0.1, \"top_p\": 0.8, \"max_length\": 25000, \"repetition_penalty\": 1})\n",
        "\n",
        "full_response = \"\"\n",
        "\n",
        "for item in output1:\n",
        "  full_response += item\n",
        "\n",
        "print(full_response)"
      ],
      "metadata": {
        "colab": {
          "base_uri": "https://localhost:8080/"
        },
        "id": "qy-rdgPjVPF7",
        "outputId": "dc33ee95-0cec-4ca5-d41e-ae842e6b347d"
      },
      "execution_count": null,
      "outputs": [
        {
          "output_type": "stream",
          "name": "stdout",
          "text": [
            "In complete sentences, summarize the structure of the ancient Egyptian system of government. How were different social classes involved in this government? Cite evidence from the text.\n",
            "\n",
            "The ancient Egyptian system of government was structured like a pyramid, with the gods at the top, followed by the pharaohs, who were believed to be gods in human form and had absolute power over their subjects. Below the pharaohs were the nobles and priests, who were responsible for pleasing the gods and held government posts, and the middle class of skilled workers such as physicians and craftsmen/women. At the bottom of the social structure were slaves and farmers, who tended the fields, raised animals, and built the royal monuments. Evidence from the text includes the fact that the pharaohs were buried in chambers within pyramids, that the nobles and priests were responsible for collecting taxes and keeping government records, and that the middle class of skilled workers made and sold goods to the public. Additionally, the text states that social mobility was possible, as some farmers and peasants were able to move up the economic ladder by learning trades and becoming scribes.\n"
          ]
        }
      ]
    },
    {
      "cell_type": "code",
      "source": [
        "import replicate\n",
        "\n",
        "summary_prompt = \"Summarize how the Third Wave developed over such a short period of time and why the experiment was ended.\"\n",
        "\n",
        "text_to_summarize = '''\n",
        "EBackground\n",
        "The Third Wave experiment took place at Cubberley High School in Palo Alto, California during the first week of April 1967. History teacher Ron Jones, finding himself unable to explain to his students how people throughout history followed the crowd even when terrible things were happening, decided to demonstrate it to his students through an experiment. Jones announced that he was starting a movement aimed to eliminate democracy. Jones named the movement â€œThe Third Waveâ€ as a symbol of strength, referring to the mythical belief that the third in a series of waves is the strongest. One of the central points of this movement was that democracyâ€™s main weakness is that it favors the individual over the whole community. Jones emphasized this main point of the movement when he created this catchy motto: â€œStrength through discipline, strength through community, strength through action, strength through pride.â€\n",
        "The Experiment\n",
        "Jones started the first day of the experiment emphasizing simple things like proper seating, and drilled the students extensively until they got it right. He then proceeded to enforce strict classroom discipline by emerging as an authoritarian figure. This resulted in dramatic improvements to the efficiency, or orderliness, of the class.  The first dayâ€™s session ended with only a few rules. Jones intended it to be a one-day experiment. Students had to be sitting at attention before the second bell, had to stand up to ask or answer questions and had to do it in three words or fewer, and were required to preface each remark with â€œMr. Jones.â€ As the week went on, Jonesâ€™ class transformed into a group with a supreme sense of discipline and community. Jones made up a salute resembling that of the Nazi regime and ordered class members to salute each other even outside the class. They all obeyed this command.\n",
        "After only three days, the experiment took on a life of its own, with students from all over the school joining in. The class expanded from initial 30 students to 43 attendees. All of the students showed drastic improvement in their academic skills and tremendous motivation. All of the students were issued a member card and each of them received a special assignment, like designing a Third Wave Banner, stopping non-members from entering the class, or other tasks to bring honor to the movement. Jones instructed the students on how to initiate new members, and by the end of the day the movement had over 200 participants. Jones was surprised that some of the students started reporting to him when other members of the movement failed to abide by the rules.\n",
        "By the fourth day of the experiment, the students became increasingly involved in the project and their discipline and loyalty to the project was so outstanding that Jones felt it was slipping out of control. He decided to terminate the movement, so he lied to students by announcing that the Third Wave was a part of a nationwide movement and that on the next day a presidential candidate of the movement would publicly announce its existence on television. Jones ordered students to attend a noon rally on Friday to witness the announcement.\n",
        "At the end of the week, instead of a televised address of their leader, the students were presented with a blank channel. After a few minutes of waiting, Jones announced that they had been a part of an experiment to demonstrate how people willingly create a sense of superiority over others, and how this can lead people to justify doing horrible things in the name of the stateâ€™s honor.'''\n",
        "# Generate LLM response\n",
        "output1 = replicate.run('a16z-infra/llama13b-v2-chat:df7690f1994d94e96ad9d568eac121aecf50684a0b0963b25a41cc40061269e5',\n",
        "                        input={\"prompt\": f\"{summary_prompt}\\n{text_to_summarize}\\n\",\n",
        "                               \"temperature\": 0.1, \"top_p\": 0.8, \"max_length\": 25000, \"repetition_penalty\": 1})\n",
        "\n",
        "full_response = \"\"\n",
        "\n",
        "for item in output1:\n",
        "  full_response += item\n",
        "\n",
        "print(full_response)"
      ],
      "metadata": {
        "colab": {
          "base_uri": "https://localhost:8080/"
        },
        "id": "5opZWfcVYvVQ",
        "outputId": "a3b688ca-6849-4647-e905-c10d76f97001"
      },
      "execution_count": null,
      "outputs": [
        {
          "output_type": "stream",
          "name": "stdout",
          "text": [
            "The Third Wave experiment was a demonstration of how easily people can be manipulated into following a movement or ideology without questioning its intentions or morality. The experiment was successful in demonstrating the power of peer pressure and the desire for a sense of belonging, but it also highlighted the dangers of blindly following a leader or movement without critical thinking and ethical consideration. The experiment was ended by Jones because he felt it was getting out of control and he did not want to see the students become too deeply invested in the movement.\n"
          ]
        }
      ]
    },
    {
      "cell_type": "code",
      "source": [
        "import replicate\n",
        "\n",
        "summary_prompt = \"Summarize the various ways the factory would use or cover up spoiled meat. Cite evidence in your answer.\"\n",
        "\n",
        "text_to_summarize = '''\n",
        "With one member trimming beef in a cannery, and another working in a sausage factory, the family had a first-hand knowledge of the great majority of Packingtown swindles. For it was the custom, as they found, whenever meat was so spoiled that it could not be used for anything else, either to can it or else to chop it up into sausage. With what had been told them by Jonas, who had worked in the pickle rooms, they could now study the whole of the spoiled-meat industry on the inside, and read a new and grim meaning into that old Packingtown jestâ€”that they use everything of the pig except the squeal.\n",
        "Jonas had told them how the meat that was taken out of pickle would often be found sour, and how they would rub it up with soda to take away the smell, and sell it to be eaten on free-lunch counters; also of all the miracles of chemistry which they performed, giving to any sort of meat, fresh or salted, whole or chopped, any color and any flavor and any odor they chose. In the pickling of hams they had an ingenious apparatus, by which they saved time and increased the capacity of the plantâ€”a machine consisting of a hollow needle attached to a pump; by plunging this needle into the meat and working with his foot, a man could fill a ham with pickle in a few seconds. And yet, in spite of this, there would be hams found spoiled, some of them with an odor so bad that a man could hardly bear to be in the room with them. To pump into these the packers had a second and much stronger pickle which destroyed the odorâ€”a process known to the workers as â€œgiving them thirty per cent.â€ Also, after the hams had been smoked, there would be found some that had gone to the bad. Formerly these had been sold as â€œNumber Three Grade,â€ but later on some ingenious person had hit upon a new device, and now they would extract the bone, about which the bad part generally lay, and insert in the hole a white-hot iron. After this invention there was no longer Number One, Two, and Three Gradeâ€”there was only Number One Grade. The packers were always originating such schemesâ€”they had what they called â€œboneless hams,â€ which were all the odds and ends of pork stuffed into casings; and â€œCalifornia hams,â€ which were the shoulders, with big knuckle joints, and nearly all the meat cut out; and fancy â€œskinned hams,â€ which were made of the oldest hogs, whose skins were so heavy and coarse that no one would buy themâ€”that is, until they had been cooked and chopped fine and labeled â€œhead cheese!â€\n",
        "It was only when the whole ham was spoiled that it came into the department of Elzbieta. Cut up by the two-thousand-revolutions- a-minute flyers, and mixed with half a ton of other meat, no odor that ever was in a ham could make any difference. There was never the least attention paid to what was cut up for sausage; there would come all the way back from Europe old sausage that had been rejected, and that was moldy and white â€“ it would be dosed with borax and glycerin, and dumped into the hoppers, and made over again for home consumption.\n",
        "There would be meat that had tumbled out on the floor, in the dirt and sawdust, where the workers had tramped and spit uncounted billions of consumption germs. There would be meat stored in great piles in rooms; and the water from leaky roofs would drip over it, and thousands of rats would race about on it. It was too dark in these storage places to see well, but a man could run his hand over these piles of meat and sweep off handfuls of the dried dung of rats. These rats were nuisances, and the packers would put poisoned bread out for them; they would die, and then rats, bread, and meat would go into the hoppers together. This is no fairy story and no joke; the meat would be shoveled into carts, and the man who did the shoveling would not trouble to lift out a rat even when he saw one â€“ there were things that went into the sausage in comparison with which a poisoned rat was a tidbit.\n",
        "There was no place for the men to wash their hands before they ate their dinner, and so they made a practice of washing them in the water that was to be ladled into the sausage. There were the butt-ends of smoked meat, and the scraps of corned beef, and all the odds and ends of the waste of the plants, that would be dumped into old barrels in the cellar and left there. Under the system of rigid economy which the packers enforced, there were some jobs that it only paid to do once in a long time, and among these was the cleaning out of the waste barrels. Every spring they did it; and in the barrels would be dirt and rust and old nails and stale water â€“ and cartload after cartload of it would be taken up and dumped into the hoppers with fresh meat, and sent out to the public's breakfast. Some of it they would make into \"smoked\" sausage â€“ but as the smoking took time, and was therefore expensive, they would call upon their chemistry department, and preserve it with borax and color it with gelatin to make it brown. All of their sausage came out of the same bowl, but when they came to wrap it they would stamp some of it \"special,\" and for this they would charge two cents more a pound.\n",
        "'''\n",
        "# Generate LLM response\n",
        "output1 = replicate.run('a16z-infra/llama13b-v2-chat:df7690f1994d94e96ad9d568eac121aecf50684a0b0963b25a41cc40061269e5',\n",
        "                        input={\"prompt\": f\"{summary_prompt}\\n{text_to_summarize}\\n\",\n",
        "                               \"temperature\": 0.1, \"top_p\": 0.8, \"max_length\": 25000, \"repetition_penalty\": 1})\n",
        "\n",
        "full_response = \"\"\n",
        "\n",
        "for item in output1:\n",
        "  full_response += item\n",
        "\n",
        "print(full_response)"
      ],
      "metadata": {
        "colab": {
          "base_uri": "https://localhost:8080/"
        },
        "id": "_eFrUCJmZzXv",
        "outputId": "bb18b22e-2792-4752-81cd-669f30d5413e"
      },
      "execution_count": null,
      "outputs": [
        {
          "output_type": "stream",
          "name": "stdout",
          "text": [
            "The factory would use or cover up spoiled meat in the following ways:\n",
            "1. Canning spoiled meat: The factory would can spoiled meat, even if it smelled bad, by rubbing it with soda to remove the smell. This spoiled meat would then be sold as \"canned ham\" or \"canned sausage.\"\n",
            "2. Chop it up into sausage: Spoiled meat would be chopped up and mixed with other meat to make sausage.\n",
            "3. Use it for \"boneless hams\" or \"California hams\": The factory would take the bones out of spoiled hams and fill them with casings, then sell them as \"boneless hams\" or \"California hams.\"\n",
            "4. Use it for \"skinned hams\": The factory would take the skin off of spoiled hams and sell them as \"skinned hams.\"\n",
            "5. Mix it with other meat: Spoiled meat would be mixed with other meat to make sausage or ground meat.\n",
            "6. Use it for \"smoked\" sausage: The factory would preserve spoiled meat with borax and color it with gelatin to make it brown, then sell it as \"smoked\" sausage.\n",
            "7. Store it in dirty, rat-infested rooms: Spoiled meat would be stored in dirty, rat-infested rooms, where it would be contaminated with rat droppings and other impurities.\n",
            "8. Use poisoned bread to kill rats: The factory would put poisoned bread out for rats, which would die and then be mixed with the meat.\n",
            "9. Wash hands in water meant for sausage: The workers would wash their hands in the water meant for making sausage, which would contaminate the meat.\n",
            "10. Dump spoiled meat into hoppers with fresh meat: The factory would dump spoiled meat into hoppers with fresh meat, which would contaminate the fresh meat.\n"
          ]
        }
      ]
    }
  ]
}